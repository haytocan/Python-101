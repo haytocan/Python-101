{
  "cells": [
    {
      "cell_type": "markdown",
      "metadata": {
        "id": "OamJOMMpCjpr"
      },
      "source": [
        "# Python 101"
      ]
    },
    {
      "cell_type": "markdown",
      "metadata": {
        "id": "uDnShicpCjps"
      },
      "source": [
        "# İçindekiler\n",
        "\n",
        "- #### Değişkenler\n",
        "- #### Operatörler\n",
        "    - Aritmetik, Karşılaştırma, Mantıksal, Bitwise, Atama, in, is\n",
        "\n",
        "- #### Tip Dönüşümleri\n",
        "- #### import keyword, Kaçış Dizileri\n",
        "- #### Veri Yapıları\n",
        "    - List, List Comprehension, Tuple, Set, Dictionary\n",
        "\n",
        "- #### Koşullar: If, Elif, Else\n",
        "- #### Döngüler: for, range, enumarate, while, break, continue\n",
        "- #### try-except\n",
        "- #### Fonksiyonlar: Fonksiyon Tanımlama, Ön Tanımlı Fonksiyonlar(random, input vs.), Lambda İfadesi, Recursive Fonksiyonlar\n",
        "- #### Dosya İşlemleri\n",
        "- #### Nesneye Dayalı Programlama\n",
        "- ##### Python 202\n",
        "\n",
        "    - Binary Type Variables\n",
        "    - Type Annotations\n",
        "    - Liste Olarak Fonksiyonlar, args kwargs\n",
        "    - PEP-8\n"
      ]
    },
    {
      "cell_type": "markdown",
      "source": [
        "## Değişkenler\n",
        "\n",
        "Değişkenler yazılım dillerinde bir değeri tutan, isimlendirilmiş bellek alanlarına verilen isimlerdir.\n",
        "\n",
        "Bazı yazılım dillerinde bir değişkenin tipi tanımlanırken belirtilir ve değişkenin hayat döngüsü boyunca sabit kalır. Python bu konu da katı kuralları olmayan bir dildir. Değişken tipi tanımlamanıza gerek olmadığı gibi değer atadığınızda Python derleyicisi runtime sırasında bu değişkenin tipinin ne olması gerektiğini algılayıp ona göre bir bellek alanı ayarlar. Bu özellik Python'ın dinamik bir programlama dili olmasından kaynaklıdır.\n",
        "\n",
        "Yine de güvenlik ve okunabilirlik açısından bir değişkenin bir görev için dolayısıyla, tek bir değişken türüne sahip olacak şekilde kullanılmasında fayda vardır."
      ],
      "metadata": {
        "id": "SfJgn1MvgFmg"
      }
    },
    {
      "cell_type": "markdown",
      "metadata": {
        "id": "_nArgQuHCjpt"
      },
      "source": [
        "Temel olarak değişkenler:\n",
        "- ```int``` (integer)\n",
        "- ```float```\n",
        "- ```complex```\n",
        "- ```bool```\n",
        "- ```str``` (string)\n",
        "- ```bytes```\n",
        "- ```bytearray```\n",
        "\n",
        "Python ayrıca octal ve hexadecimal sayısal türleri içinde özel tanımlayamaya izin verir fakat ayrı bir tip olarak anılmazlar.\n",
        "\n",
        "- ```None```\n",
        "\n",
        "```None``` Python'da özel bir sabittir ve bir değişkenin değerinin olmayışını ya da null değer içerdiğini temsil eder. Genellikle bir değişken başlatıldığında fakat herhangi bir değer atanmadığında None değer ataması yapılır. Veri tipi de ```NoneType```dır."
      ]
    },
    {
      "cell_type": "code",
      "execution_count": null,
      "metadata": {
        "id": "J4iU0M7iCjpu",
        "outputId": "95874052-50cb-4960-b75c-20743016c4e0",
        "colab": {
          "base_uri": "https://localhost:8080/"
        }
      },
      "outputs": [
        {
          "output_type": "stream",
          "name": "stdout",
          "text": [
            "variable none value is None and its type is <class 'NoneType'>\n",
            "\n",
            "variable none new value is 1 and its type is <class 'int'>\n"
          ]
        }
      ],
      "source": [
        "none = None\n",
        "print(\"variable none value is\", none, \"and its type is\", type(none))\n",
        "\n",
        "print()\n",
        "\n",
        "none = 1\n",
        "print(\"variable none new value is\", none, \"and its type is\", type(none))"
      ]
    },
    {
      "cell_type": "markdown",
      "metadata": {
        "id": "fXr_5BWdCjpu"
      },
      "source": [
        "Sayısal değişken türleri ```int```, ```float``` ve ```complex```'dir.\n",
        "* ```int``` değişken türü tam kesirli sayısal verileri tutmak için kullanılır.\n",
        "* ```float``` virgüllü sayıları tutmak için kullanılır.\n",
        "* ```complex``` değişken türü ise karmaşık sayıları tutmak için kullanılır.\n",
        "\n",
        "```bool``` değişken türü mantıksal değişken türüdür. Sadece iki değer alabilir. True ve False.\n",
        "\n",
        "Metinsel verileri tutan veri tipi ise ```str``` değişken türüdür. Python'da karakter verilerini tutmak için özellikle bir değişken yoktur. Fakat ```''``` ve ```\"\"``` üzerinden ayrım yapılabilir. Tabiki bunun içinde bir zorunluluk yoktur. Python karakterleri de, daha uzun kelime ya da metinsel içerikleri de str değişken türü olarak bellekte tutmaktadır. Bu tür kurallar sadece okunabilirliği arttırmak içindir."
      ]
    },
    {
      "cell_type": "markdown",
      "metadata": {
        "id": "rI9wTw6RCjpv"
      },
      "source": [
        "```print()``` ekrana değişkenlerin içeriğini, fonksiyonların çıktılarını yazdırmak için kullandığımız bir fonksiyondur."
      ]
    },
    {
      "cell_type": "code",
      "execution_count": null,
      "metadata": {
        "id": "9dBNjb03Cjpv",
        "outputId": "34d301da-97b2-4c9b-ad64-a3f9bae8d485",
        "colab": {
          "base_uri": "https://localhost:8080/"
        }
      },
      "outputs": [
        {
          "output_type": "stream",
          "name": "stdout",
          "text": [
            "Hello Ugur\n"
          ]
        }
      ],
      "source": [
        "print(\"Hello Ugur\")"
      ]
    },
    {
      "cell_type": "code",
      "source": [
        "print(2*5+10)"
      ],
      "metadata": {
        "colab": {
          "base_uri": "https://localhost:8080/"
        },
        "id": "D-LltQR2O3yg",
        "outputId": "4d527cb0-8387-40a4-8e8c-ecd4a66554ce"
      },
      "execution_count": null,
      "outputs": [
        {
          "output_type": "stream",
          "name": "stdout",
          "text": [
            "20\n"
          ]
        }
      ]
    },
    {
      "cell_type": "markdown",
      "metadata": {
        "id": "0jKRccgWCjpv"
      },
      "source": [
        "### Sayısal Değişkenler"
      ]
    },
    {
      "cell_type": "code",
      "execution_count": null,
      "metadata": {
        "id": "dd5cvlfHCjpv",
        "outputId": "46081c59-81f2-49df-80dc-54e72b2b8283",
        "colab": {
          "base_uri": "https://localhost:8080/"
        }
      },
      "outputs": [
        {
          "output_type": "stream",
          "name": "stdout",
          "text": [
            "variable a's value is 5 and its type <class 'int'>\n",
            "variable b's value is 3.14 and its type <class 'float'>\n",
            "variable c's value is (5-2j) and its type <class 'complex'>\n"
          ]
        }
      ],
      "source": [
        "# yorum satırım\n",
        "# Python dilinde koda yorum satırı eklemek için satır başına # işareti eklenir.\n",
        "\n",
        "a = 5       # int\n",
        "b = 3.14    # float\n",
        "c = 5 - 2j  # complex\n",
        "\n",
        "print(f\"variable a's value is {a} and its type {type(a)}\")\n",
        "print(f\"variable b's value is {b} and its type {type(b)}\")\n",
        "print(f\"variable c's value is {c} and its type {type(c)}\")\n",
        "\n",
        "# print() içine yazdığımız string ifadeler için çeşitli formatlama türleri vardır. f-string (f\"\") ifadesi bunlardan biridir."
      ]
    },
    {
      "cell_type": "code",
      "execution_count": null,
      "metadata": {
        "id": "OEPJUUZICjpw",
        "outputId": "0181769a-bfb5-42d6-d6d1-226af2b31a0e"
      },
      "outputs": [
        {
          "name": "stdout",
          "output_type": "stream",
          "text": [
            "real part of (3+4j) is 3.0 and imaginary part is 4.0\n",
            "complex sum of (3+4j) and (5-2j) is (8+2j)\n"
          ]
        }
      ],
      "source": [
        "# complex veri tipine biraz daha yakından bakalım\n",
        "\n",
        "g = 3 + 4j\n",
        "h = 5 - 2j\n",
        "\n",
        "# real ve imaginary kısımları\n",
        "real = g.real\n",
        "imag = g.imag\n",
        "print(f\"real part of {g} is {real} and imaginary part is {imag}\")\n",
        "\n",
        "print(f\"complex sum of {g} and {h} is {g + h}\")\n"
      ]
    },
    {
      "cell_type": "markdown",
      "metadata": {
        "id": "AQabosqMCjpw"
      },
      "source": [
        "### Boolean(Mantıksal) Değişkenler"
      ]
    },
    {
      "cell_type": "code",
      "execution_count": null,
      "metadata": {
        "id": "aHOe3Z0JCjpw",
        "outputId": "3d81f063-aec4-4785-a852-e5c1b9306a03"
      },
      "outputs": [
        {
          "name": "stdout",
          "output_type": "stream",
          "text": [
            "firstBooleanVar's value is True, secondBooleanVar's value is False and their types are <class 'bool'>\n"
          ]
        }
      ],
      "source": [
        "firstBooleanVar = True\n",
        "secondBooleanVar = False\n",
        "print(f\"firstBooleanVar's value is {firstBooleanVar}, secondBooleanVar's value is {secondBooleanVar} and their types are {type(firstBooleanVar)}\")"
      ]
    },
    {
      "cell_type": "markdown",
      "metadata": {
        "id": "Rkl6lzMuCjpw"
      },
      "source": [
        "### String Değişkenleri"
      ]
    },
    {
      "cell_type": "code",
      "execution_count": null,
      "metadata": {
        "id": "W3_StDYrCjpw",
        "outputId": "4bab3d9f-626d-45ac-e6de-1059dee2bf78"
      },
      "outputs": [
        {
          "name": "stdout",
          "output_type": "stream",
          "text": [
            "variable's value is Hello, World! and its type <class 'str'>\n",
            "variable l's value is a and its type <class 'str'>\n"
          ]
        }
      ],
      "source": [
        "variable = \"Hello, World!\"\n",
        "print(f\"variable's value is {variable} and its type {type(variable)}\")\n",
        "\n",
        "# Python'da tek başına bir char değişkeni yoktur dolayısıyla char tanımlamasını uzunluğu 1 olan bir string ile yapabilirsiniz.\n",
        "one_char = 'a'\n",
        "print(f\"variable one_char's value is {one_char} and its type {type(one_char)}\")\n",
        "\n",
        "\n",
        "# genel kullanım string tipi için çift tırnak, char için tek tırnaktır fakat ikisini de istediğiniz şekilde kullanabilirsiniz, hata vermez\n",
        "str_exp = 'Hello, World!'\n",
        "str_exp = \"Hello, World!\""
      ]
    },
    {
      "cell_type": "code",
      "execution_count": null,
      "metadata": {
        "id": "6SO6lYpMCjpw",
        "outputId": "e1b912c4-88ba-4913-f7cb-f5477bf27845",
        "colab": {
          "base_uri": "https://localhost:8080/"
        }
      },
      "outputs": [
        {
          "output_type": "stream",
          "name": "stdout",
          "text": [
            "Oğuzhan'ın not defteri\n",
            "Oğuzhan'ın not defteri\n"
          ]
        }
      ],
      "source": [
        "print(\"Oğuzhan'ın not defteri\") # tek tırnak kullanımda sorun yaşanmaz fakat olur da kesme işareti kullanmamız gerekirse diye en makul kullanımı çift tırnak kullanımıdır\n",
        "print(\"Oğuzhan'ın not defteri\") # kesme işaretinin tek tırnakta kullanımı, burada \\ işareti escape karakteri olarak kullanılmıştır"
      ]
    },
    {
      "cell_type": "code",
      "execution_count": null,
      "metadata": {
        "id": "acr23VDyCjpx",
        "outputId": "d65d1129-a23b-4bc4-de98-7735097bc218",
        "colab": {
          "base_uri": "https://localhost:8080/"
        }
      },
      "outputs": [
        {
          "output_type": "stream",
          "name": "stdout",
          "text": [
            "merhaba dünya\n",
            "şu anda alt satırdayım\n"
          ]
        }
      ],
      "source": [
        "print(\"merhaba dünya\\nşu anda alt satırdayım\") # aynı print içerisinde metinin alt satıra geçmesini sağlamak için \\n escape karakteri kullanılır"
      ]
    },
    {
      "cell_type": "code",
      "execution_count": null,
      "metadata": {
        "id": "HHGJG0rICjpx",
        "outputId": "ef75e4f8-f76a-492b-9db0-067239c5f0c3",
        "colab": {
          "base_uri": "https://localhost:8080/"
        }
      },
      "outputs": [
        {
          "output_type": "stream",
          "name": "stdout",
          "text": [
            "capitalize\n",
            "casefold\n",
            "center\n",
            "count\n",
            "encode\n",
            "endswith\n",
            "expandtabs\n",
            "find\n",
            "format\n",
            "format_map\n",
            "index\n",
            "isalnum\n",
            "isalpha\n",
            "isascii\n",
            "isdecimal\n",
            "isdigit\n",
            "isidentifier\n",
            "islower\n",
            "isnumeric\n",
            "isprintable\n",
            "isspace\n",
            "istitle\n",
            "isupper\n",
            "join\n",
            "ljust\n",
            "lower\n",
            "lstrip\n",
            "maketrans\n",
            "partition\n",
            "removeprefix\n",
            "removesuffix\n",
            "replace\n",
            "rfind\n",
            "rindex\n",
            "rjust\n",
            "rpartition\n",
            "rsplit\n",
            "rstrip\n",
            "split\n",
            "splitlines\n",
            "startswith\n",
            "strip\n",
            "swapcase\n",
            "title\n",
            "translate\n",
            "upper\n",
            "zfill\n"
          ]
        }
      ],
      "source": [
        "\"\"\"\n",
        "string veri tipi üzerinde uzunca durulabilecek bir veri tipidir, birçok fonksiyonu vardır. Python öntanımlı veri tiplerinin birer sınıf.\n",
        "Dolayısıyla bu veri tiplerinin kendilerine özel fonksiyonları da vardır. Ön tanımlı sınıfların fonksiyonlarına dir() fonksiyonunu kullanarak erişebiliriz.\n",
        "Fonksiyonları daha iyi görebilmek adına küçük bir kod yazılmıştır.\n",
        "\"\"\"\n",
        "for func in dir(str):\n",
        "    if not func.startswith(\"__\"):\n",
        "        print(func)"
      ]
    },
    {
      "cell_type": "code",
      "execution_count": null,
      "metadata": {
        "id": "bQTSereNCjpx",
        "outputId": "adb27f5c-1775-4448-da28-a8bae1a9ba28",
        "colab": {
          "base_uri": "https://localhost:8080/"
        }
      },
      "outputs": [
        {
          "output_type": "stream",
          "name": "stdout",
          "text": [
            "Help on class str in module builtins:\n",
            "\n",
            "class str(object)\n",
            " |  str(object='') -> str\n",
            " |  str(bytes_or_buffer[, encoding[, errors]]) -> str\n",
            " |  \n",
            " |  Create a new string object from the given object. If encoding or\n",
            " |  errors is specified, then the object must expose a data buffer\n",
            " |  that will be decoded using the given encoding and error handler.\n",
            " |  Otherwise, returns the result of object.__str__() (if defined)\n",
            " |  or repr(object).\n",
            " |  encoding defaults to sys.getdefaultencoding().\n",
            " |  errors defaults to 'strict'.\n",
            " |  \n",
            " |  Methods defined here:\n",
            " |  \n",
            " |  __add__(self, value, /)\n",
            " |      Return self+value.\n",
            " |  \n",
            " |  __contains__(self, key, /)\n",
            " |      Return key in self.\n",
            " |  \n",
            " |  __eq__(self, value, /)\n",
            " |      Return self==value.\n",
            " |  \n",
            " |  __format__(self, format_spec, /)\n",
            " |      Return a formatted version of the string as described by format_spec.\n",
            " |  \n",
            " |  __ge__(self, value, /)\n",
            " |      Return self>=value.\n",
            " |  \n",
            " |  __getattribute__(self, name, /)\n",
            " |      Return getattr(self, name).\n",
            " |  \n",
            " |  __getitem__(self, key, /)\n",
            " |      Return self[key].\n",
            " |  \n",
            " |  __getnewargs__(...)\n",
            " |  \n",
            " |  __gt__(self, value, /)\n",
            " |      Return self>value.\n",
            " |  \n",
            " |  __hash__(self, /)\n",
            " |      Return hash(self).\n",
            " |  \n",
            " |  __iter__(self, /)\n",
            " |      Implement iter(self).\n",
            " |  \n",
            " |  __le__(self, value, /)\n",
            " |      Return self<=value.\n",
            " |  \n",
            " |  __len__(self, /)\n",
            " |      Return len(self).\n",
            " |  \n",
            " |  __lt__(self, value, /)\n",
            " |      Return self<value.\n",
            " |  \n",
            " |  __mod__(self, value, /)\n",
            " |      Return self%value.\n",
            " |  \n",
            " |  __mul__(self, value, /)\n",
            " |      Return self*value.\n",
            " |  \n",
            " |  __ne__(self, value, /)\n",
            " |      Return self!=value.\n",
            " |  \n",
            " |  __repr__(self, /)\n",
            " |      Return repr(self).\n",
            " |  \n",
            " |  __rmod__(self, value, /)\n",
            " |      Return value%self.\n",
            " |  \n",
            " |  __rmul__(self, value, /)\n",
            " |      Return value*self.\n",
            " |  \n",
            " |  __sizeof__(self, /)\n",
            " |      Return the size of the string in memory, in bytes.\n",
            " |  \n",
            " |  __str__(self, /)\n",
            " |      Return str(self).\n",
            " |  \n",
            " |  capitalize(self, /)\n",
            " |      Return a capitalized version of the string.\n",
            " |      \n",
            " |      More specifically, make the first character have upper case and the rest lower\n",
            " |      case.\n",
            " |  \n",
            " |  casefold(self, /)\n",
            " |      Return a version of the string suitable for caseless comparisons.\n",
            " |  \n",
            " |  center(self, width, fillchar=' ', /)\n",
            " |      Return a centered string of length width.\n",
            " |      \n",
            " |      Padding is done using the specified fill character (default is a space).\n",
            " |  \n",
            " |  count(...)\n",
            " |      S.count(sub[, start[, end]]) -> int\n",
            " |      \n",
            " |      Return the number of non-overlapping occurrences of substring sub in\n",
            " |      string S[start:end].  Optional arguments start and end are\n",
            " |      interpreted as in slice notation.\n",
            " |  \n",
            " |  encode(self, /, encoding='utf-8', errors='strict')\n",
            " |      Encode the string using the codec registered for encoding.\n",
            " |      \n",
            " |      encoding\n",
            " |        The encoding in which to encode the string.\n",
            " |      errors\n",
            " |        The error handling scheme to use for encoding errors.\n",
            " |        The default is 'strict' meaning that encoding errors raise a\n",
            " |        UnicodeEncodeError.  Other possible values are 'ignore', 'replace' and\n",
            " |        'xmlcharrefreplace' as well as any other name registered with\n",
            " |        codecs.register_error that can handle UnicodeEncodeErrors.\n",
            " |  \n",
            " |  endswith(...)\n",
            " |      S.endswith(suffix[, start[, end]]) -> bool\n",
            " |      \n",
            " |      Return True if S ends with the specified suffix, False otherwise.\n",
            " |      With optional start, test S beginning at that position.\n",
            " |      With optional end, stop comparing S at that position.\n",
            " |      suffix can also be a tuple of strings to try.\n",
            " |  \n",
            " |  expandtabs(self, /, tabsize=8)\n",
            " |      Return a copy where all tab characters are expanded using spaces.\n",
            " |      \n",
            " |      If tabsize is not given, a tab size of 8 characters is assumed.\n",
            " |  \n",
            " |  find(...)\n",
            " |      S.find(sub[, start[, end]]) -> int\n",
            " |      \n",
            " |      Return the lowest index in S where substring sub is found,\n",
            " |      such that sub is contained within S[start:end].  Optional\n",
            " |      arguments start and end are interpreted as in slice notation.\n",
            " |      \n",
            " |      Return -1 on failure.\n",
            " |  \n",
            " |  format(...)\n",
            " |      S.format(*args, **kwargs) -> str\n",
            " |      \n",
            " |      Return a formatted version of S, using substitutions from args and kwargs.\n",
            " |      The substitutions are identified by braces ('{' and '}').\n",
            " |  \n",
            " |  format_map(...)\n",
            " |      S.format_map(mapping) -> str\n",
            " |      \n",
            " |      Return a formatted version of S, using substitutions from mapping.\n",
            " |      The substitutions are identified by braces ('{' and '}').\n",
            " |  \n",
            " |  index(...)\n",
            " |      S.index(sub[, start[, end]]) -> int\n",
            " |      \n",
            " |      Return the lowest index in S where substring sub is found,\n",
            " |      such that sub is contained within S[start:end].  Optional\n",
            " |      arguments start and end are interpreted as in slice notation.\n",
            " |      \n",
            " |      Raises ValueError when the substring is not found.\n",
            " |  \n",
            " |  isalnum(self, /)\n",
            " |      Return True if the string is an alpha-numeric string, False otherwise.\n",
            " |      \n",
            " |      A string is alpha-numeric if all characters in the string are alpha-numeric and\n",
            " |      there is at least one character in the string.\n",
            " |  \n",
            " |  isalpha(self, /)\n",
            " |      Return True if the string is an alphabetic string, False otherwise.\n",
            " |      \n",
            " |      A string is alphabetic if all characters in the string are alphabetic and there\n",
            " |      is at least one character in the string.\n",
            " |  \n",
            " |  isascii(self, /)\n",
            " |      Return True if all characters in the string are ASCII, False otherwise.\n",
            " |      \n",
            " |      ASCII characters have code points in the range U+0000-U+007F.\n",
            " |      Empty string is ASCII too.\n",
            " |  \n",
            " |  isdecimal(self, /)\n",
            " |      Return True if the string is a decimal string, False otherwise.\n",
            " |      \n",
            " |      A string is a decimal string if all characters in the string are decimal and\n",
            " |      there is at least one character in the string.\n",
            " |  \n",
            " |  isdigit(self, /)\n",
            " |      Return True if the string is a digit string, False otherwise.\n",
            " |      \n",
            " |      A string is a digit string if all characters in the string are digits and there\n",
            " |      is at least one character in the string.\n",
            " |  \n",
            " |  isidentifier(self, /)\n",
            " |      Return True if the string is a valid Python identifier, False otherwise.\n",
            " |      \n",
            " |      Call keyword.iskeyword(s) to test whether string s is a reserved identifier,\n",
            " |      such as \"def\" or \"class\".\n",
            " |  \n",
            " |  islower(self, /)\n",
            " |      Return True if the string is a lowercase string, False otherwise.\n",
            " |      \n",
            " |      A string is lowercase if all cased characters in the string are lowercase and\n",
            " |      there is at least one cased character in the string.\n",
            " |  \n",
            " |  isnumeric(self, /)\n",
            " |      Return True if the string is a numeric string, False otherwise.\n",
            " |      \n",
            " |      A string is numeric if all characters in the string are numeric and there is at\n",
            " |      least one character in the string.\n",
            " |  \n",
            " |  isprintable(self, /)\n",
            " |      Return True if the string is printable, False otherwise.\n",
            " |      \n",
            " |      A string is printable if all of its characters are considered printable in\n",
            " |      repr() or if it is empty.\n",
            " |  \n",
            " |  isspace(self, /)\n",
            " |      Return True if the string is a whitespace string, False otherwise.\n",
            " |      \n",
            " |      A string is whitespace if all characters in the string are whitespace and there\n",
            " |      is at least one character in the string.\n",
            " |  \n",
            " |  istitle(self, /)\n",
            " |      Return True if the string is a title-cased string, False otherwise.\n",
            " |      \n",
            " |      In a title-cased string, upper- and title-case characters may only\n",
            " |      follow uncased characters and lowercase characters only cased ones.\n",
            " |  \n",
            " |  isupper(self, /)\n",
            " |      Return True if the string is an uppercase string, False otherwise.\n",
            " |      \n",
            " |      A string is uppercase if all cased characters in the string are uppercase and\n",
            " |      there is at least one cased character in the string.\n",
            " |  \n",
            " |  join(self, iterable, /)\n",
            " |      Concatenate any number of strings.\n",
            " |      \n",
            " |      The string whose method is called is inserted in between each given string.\n",
            " |      The result is returned as a new string.\n",
            " |      \n",
            " |      Example: '.'.join(['ab', 'pq', 'rs']) -> 'ab.pq.rs'\n",
            " |  \n",
            " |  ljust(self, width, fillchar=' ', /)\n",
            " |      Return a left-justified string of length width.\n",
            " |      \n",
            " |      Padding is done using the specified fill character (default is a space).\n",
            " |  \n",
            " |  lower(self, /)\n",
            " |      Return a copy of the string converted to lowercase.\n",
            " |  \n",
            " |  lstrip(self, chars=None, /)\n",
            " |      Return a copy of the string with leading whitespace removed.\n",
            " |      \n",
            " |      If chars is given and not None, remove characters in chars instead.\n",
            " |  \n",
            " |  partition(self, sep, /)\n",
            " |      Partition the string into three parts using the given separator.\n",
            " |      \n",
            " |      This will search for the separator in the string.  If the separator is found,\n",
            " |      returns a 3-tuple containing the part before the separator, the separator\n",
            " |      itself, and the part after it.\n",
            " |      \n",
            " |      If the separator is not found, returns a 3-tuple containing the original string\n",
            " |      and two empty strings.\n",
            " |  \n",
            " |  removeprefix(self, prefix, /)\n",
            " |      Return a str with the given prefix string removed if present.\n",
            " |      \n",
            " |      If the string starts with the prefix string, return string[len(prefix):].\n",
            " |      Otherwise, return a copy of the original string.\n",
            " |  \n",
            " |  removesuffix(self, suffix, /)\n",
            " |      Return a str with the given suffix string removed if present.\n",
            " |      \n",
            " |      If the string ends with the suffix string and that suffix is not empty,\n",
            " |      return string[:-len(suffix)]. Otherwise, return a copy of the original\n",
            " |      string.\n",
            " |  \n",
            " |  replace(self, old, new, count=-1, /)\n",
            " |      Return a copy with all occurrences of substring old replaced by new.\n",
            " |      \n",
            " |        count\n",
            " |          Maximum number of occurrences to replace.\n",
            " |          -1 (the default value) means replace all occurrences.\n",
            " |      \n",
            " |      If the optional argument count is given, only the first count occurrences are\n",
            " |      replaced.\n",
            " |  \n",
            " |  rfind(...)\n",
            " |      S.rfind(sub[, start[, end]]) -> int\n",
            " |      \n",
            " |      Return the highest index in S where substring sub is found,\n",
            " |      such that sub is contained within S[start:end].  Optional\n",
            " |      arguments start and end are interpreted as in slice notation.\n",
            " |      \n",
            " |      Return -1 on failure.\n",
            " |  \n",
            " |  rindex(...)\n",
            " |      S.rindex(sub[, start[, end]]) -> int\n",
            " |      \n",
            " |      Return the highest index in S where substring sub is found,\n",
            " |      such that sub is contained within S[start:end].  Optional\n",
            " |      arguments start and end are interpreted as in slice notation.\n",
            " |      \n",
            " |      Raises ValueError when the substring is not found.\n",
            " |  \n",
            " |  rjust(self, width, fillchar=' ', /)\n",
            " |      Return a right-justified string of length width.\n",
            " |      \n",
            " |      Padding is done using the specified fill character (default is a space).\n",
            " |  \n",
            " |  rpartition(self, sep, /)\n",
            " |      Partition the string into three parts using the given separator.\n",
            " |      \n",
            " |      This will search for the separator in the string, starting at the end. If\n",
            " |      the separator is found, returns a 3-tuple containing the part before the\n",
            " |      separator, the separator itself, and the part after it.\n",
            " |      \n",
            " |      If the separator is not found, returns a 3-tuple containing two empty strings\n",
            " |      and the original string.\n",
            " |  \n",
            " |  rsplit(self, /, sep=None, maxsplit=-1)\n",
            " |      Return a list of the substrings in the string, using sep as the separator string.\n",
            " |      \n",
            " |        sep\n",
            " |          The separator used to split the string.\n",
            " |      \n",
            " |          When set to None (the default value), will split on any whitespace\n",
            " |          character (including \\n \\r \\t \\f and spaces) and will discard\n",
            " |          empty strings from the result.\n",
            " |        maxsplit\n",
            " |          Maximum number of splits.\n",
            " |          -1 (the default value) means no limit.\n",
            " |      \n",
            " |      Splitting starts at the end of the string and works to the front.\n",
            " |  \n",
            " |  rstrip(self, chars=None, /)\n",
            " |      Return a copy of the string with trailing whitespace removed.\n",
            " |      \n",
            " |      If chars is given and not None, remove characters in chars instead.\n",
            " |  \n",
            " |  split(self, /, sep=None, maxsplit=-1)\n",
            " |      Return a list of the substrings in the string, using sep as the separator string.\n",
            " |      \n",
            " |        sep\n",
            " |          The separator used to split the string.\n",
            " |      \n",
            " |          When set to None (the default value), will split on any whitespace\n",
            " |          character (including \\n \\r \\t \\f and spaces) and will discard\n",
            " |          empty strings from the result.\n",
            " |        maxsplit\n",
            " |          Maximum number of splits.\n",
            " |          -1 (the default value) means no limit.\n",
            " |      \n",
            " |      Splitting starts at the front of the string and works to the end.\n",
            " |      \n",
            " |      Note, str.split() is mainly useful for data that has been intentionally\n",
            " |      delimited.  With natural text that includes punctuation, consider using\n",
            " |      the regular expression module.\n",
            " |  \n",
            " |  splitlines(self, /, keepends=False)\n",
            " |      Return a list of the lines in the string, breaking at line boundaries.\n",
            " |      \n",
            " |      Line breaks are not included in the resulting list unless keepends is given and\n",
            " |      true.\n",
            " |  \n",
            " |  startswith(...)\n",
            " |      S.startswith(prefix[, start[, end]]) -> bool\n",
            " |      \n",
            " |      Return True if S starts with the specified prefix, False otherwise.\n",
            " |      With optional start, test S beginning at that position.\n",
            " |      With optional end, stop comparing S at that position.\n",
            " |      prefix can also be a tuple of strings to try.\n",
            " |  \n",
            " |  strip(self, chars=None, /)\n",
            " |      Return a copy of the string with leading and trailing whitespace removed.\n",
            " |      \n",
            " |      If chars is given and not None, remove characters in chars instead.\n",
            " |  \n",
            " |  swapcase(self, /)\n",
            " |      Convert uppercase characters to lowercase and lowercase characters to uppercase.\n",
            " |  \n",
            " |  title(self, /)\n",
            " |      Return a version of the string where each word is titlecased.\n",
            " |      \n",
            " |      More specifically, words start with uppercased characters and all remaining\n",
            " |      cased characters have lower case.\n",
            " |  \n",
            " |  translate(self, table, /)\n",
            " |      Replace each character in the string using the given translation table.\n",
            " |      \n",
            " |        table\n",
            " |          Translation table, which must be a mapping of Unicode ordinals to\n",
            " |          Unicode ordinals, strings, or None.\n",
            " |      \n",
            " |      The table must implement lookup/indexing via __getitem__, for instance a\n",
            " |      dictionary or list.  If this operation raises LookupError, the character is\n",
            " |      left untouched.  Characters mapped to None are deleted.\n",
            " |  \n",
            " |  upper(self, /)\n",
            " |      Return a copy of the string converted to uppercase.\n",
            " |  \n",
            " |  zfill(self, width, /)\n",
            " |      Pad a numeric string with zeros on the left, to fill a field of the given width.\n",
            " |      \n",
            " |      The string is never truncated.\n",
            " |  \n",
            " |  ----------------------------------------------------------------------\n",
            " |  Static methods defined here:\n",
            " |  \n",
            " |  __new__(*args, **kwargs)\n",
            " |      Create and return a new object.  See help(type) for accurate signature.\n",
            " |  \n",
            " |  maketrans(...)\n",
            " |      Return a translation table usable for str.translate().\n",
            " |      \n",
            " |      If there is only one argument, it must be a dictionary mapping Unicode\n",
            " |      ordinals (integers) or characters to Unicode ordinals, strings or None.\n",
            " |      Character keys will be then converted to ordinals.\n",
            " |      If there are two arguments, they must be strings of equal length, and\n",
            " |      in the resulting dictionary, each character in x will be mapped to the\n",
            " |      character at the same position in y. If there is a third argument, it\n",
            " |      must be a string, whose characters will be mapped to None in the result.\n",
            "\n"
          ]
        }
      ],
      "source": [
        "# ayrıca help() fonksiyonu ile herhangi bir modülün, sınıfın, fonksiyonun dokümantasyon bilgilerine ulaşabiliriz.\n",
        "help(str)"
      ]
    },
    {
      "cell_type": "code",
      "execution_count": null,
      "metadata": {
        "id": "h56WyUByCjpx",
        "outputId": "1bc96a5a-a0c4-4482-bfe0-72bfbe18b5bb",
        "colab": {
          "base_uri": "https://localhost:8080/"
        }
      },
      "outputs": [
        {
          "output_type": "stream",
          "name": "stdout",
          "text": [
            "HELLO WORLD\n",
            "2\n",
            "True\n",
            "6\n",
            "True\n",
            "Hi World\n",
            "['Hello', 'World']\n",
            "True\n"
          ]
        }
      ],
      "source": [
        "# String için birkaç alıştırma\n",
        "\n",
        "my_str = \"Hello World\"\n",
        "print(my_str.upper())                 # HELLO WORLD\n",
        "print(my_str.count(\"o\"))              # 2\n",
        "print(my_str.endswith(\"d\"))           # True\n",
        "print(my_str.find(\"W\"))               # 6\n",
        "print(my_str.istitle())               # True\n",
        "print(my_str.replace(\"Hello\", \"Hi\"))  # Hi World\n",
        "print(my_str.split())                 # ['Hello', 'World']\n",
        "\n",
        "numeric_str = \"05051234567\"\n",
        "print(numeric_str.isdigit())            # True"
      ]
    },
    {
      "cell_type": "code",
      "execution_count": null,
      "metadata": {
        "id": "tDN-yDCECjpy",
        "outputId": "853eb04e-0ff2-44e0-b9dd-279f602fcc4d",
        "colab": {
          "base_uri": "https://localhost:8080/"
        }
      },
      "outputs": [
        {
          "output_type": "stream",
          "name": "stdout",
          "text": [
            "Name: Rai, Surname: Shi, Age: 24\n",
            "Name: Rai, Surname: Shi, Age: 24\n",
            "Name: Rai, Surname: Shi, Age: 24, Debt: 56.800000\n"
          ]
        }
      ],
      "source": [
        "\"\"\" ayrıca print() fonksiyonlarının içinde görmüş olabileceğiniz üzere yine yukarıda da bahsettiğimiz bazı string formatlama türleri vardır.\n",
        "str.format()\n",
        "str.f-string\n",
        "% formating\n",
        "\"\"\"\n",
        "\n",
        "name    = \"Rai\"\n",
        "surname = \"Shi\"\n",
        "age     = 24\n",
        "\n",
        "# format()\n",
        "person = \"Name: {}, Surname: {}, Age: {}\".format(name, surname, age)\n",
        "print(person)\n",
        "# f-strings\n",
        "person3 = f\"Name: {name}, Surname: {surname}, Age: {age}\"\n",
        "print(person3)\n",
        "\n",
        "# % formating, old one\n",
        "# \"%[converting type]\" % (variables)\n",
        "debt    = 56.8\n",
        "person4 = \"Name: %s, Surname: %s, Age: %d, Debt: %f\" % (name, surname, age, debt)\n",
        "print(person4)"
      ]
    },
    {
      "cell_type": "markdown",
      "metadata": {
        "id": "tGb-F6GeCjpy"
      },
      "source": [
        "## Operatörler"
      ]
    },
    {
      "cell_type": "markdown",
      "metadata": {
        "id": "MmtxDlBXCjpy"
      },
      "source": [
        "### Aritmetik Operatörler\n",
        "\n",
        "- ( + ) toplama ya da birleştirme operatörü\n",
        "- ( - ) çıkarma operatörü\n",
        "- ( * ) çarpma operatörü\n",
        "- ( / ) bölme operatörü\n",
        "- ( // ) bölüm operatörü\n",
        "- ( % ) modülüs (kalan) operatörü\n",
        "- ( ** ) üs alma operatörü"
      ]
    },
    {
      "cell_type": "code",
      "execution_count": null,
      "metadata": {
        "id": "iUroq372Cjpy",
        "outputId": "58c71651-02bb-41dd-d9c0-94833f2c3d65",
        "colab": {
          "base_uri": "https://localhost:8080/"
        }
      },
      "outputs": [
        {
          "output_type": "stream",
          "name": "stdout",
          "text": [
            "8\n",
            "result of string concatenation is Hello, World!\n",
            "2\n",
            "result of string multiplication is HelloHelloHello\n",
            "result of division is 100.0 and its type will be always <class 'float'>\n",
            "result of floor division is 100 and its type will be always <class 'int'>\n",
            "3\n",
            "8 17.576\n"
          ]
        }
      ],
      "source": [
        "result_of_addition = 5 + 3\n",
        "print(result_of_addition)\n",
        "\n",
        "result_of_str_concatenation = \"Hello, \" + \"World!\"  # Hello, World!\n",
        "print(\"result of string concatenation is\", result_of_str_concatenation)\n",
        "\n",
        "result_of_subtraction = 5 - 3  # 2\n",
        "print(result_of_subtraction)\n",
        "# result_of_str_subtraction = # TypeError: unsupported operand type(s) for -: 'str' and 'str'\n",
        "\n",
        "result_of_multiplication = 5 * 3  # 15\n",
        "result_of_str_multiplication = \"Hello\" * 3   #HelloHelloHello\n",
        "print(\"result of string multiplication is\", result_of_str_multiplication)\n",
        "\n",
        "# /   division\n",
        "result_of_division = 1000 / 10  # 100.0\n",
        "print(f\"result of division is {result_of_division} and its type will be always {type(result_of_division)}\")\n",
        "\n",
        "# //  floor division, rounds the result down to the nearest integer\n",
        "result_of_floorDivision = 1002 // 10  # 100\n",
        "print(f\"result of floor division is {result_of_floorDivision} and its type will be always {type(result_of_floorDivision)}\")\n",
        "\n",
        "# %   modulus\n",
        "result_of_modulus = 78 % 5  # 3\n",
        "print(result_of_modulus)\n",
        "\n",
        "# **  exponentiation\n",
        "result_of_exponentiation = 2 ** 3  # 8\n",
        "result_of_exponentiation2 = (2.6) ** 3  # 17.576\n",
        "print(result_of_exponentiation, result_of_exponentiation2)"
      ]
    },
    {
      "cell_type": "markdown",
      "metadata": {
        "id": "6LsRYgF8Cjpy"
      },
      "source": [
        "### Karşılaştırma Operatörleri"
      ]
    },
    {
      "cell_type": "code",
      "execution_count": null,
      "metadata": {
        "id": "nK4f-Qc0Cjpy",
        "outputId": "d15959d7-00d0-412f-869c-b5e37f8bb97c"
      },
      "outputs": [
        {
          "name": "stdout",
          "output_type": "stream",
          "text": [
            "True\n",
            "True\n",
            "True\n",
            "False\n",
            "True\n",
            "False\n"
          ]
        }
      ],
      "source": [
        "# ==  equal to\n",
        "print(5 == 5)  # True\n",
        "\n",
        "# !=  not equal to\n",
        "print(5 != 4)  # True\n",
        "\n",
        "# >   greater than\n",
        "print(5 > 4)  # True\n",
        "\n",
        "# <   less than\n",
        "print(5 < 4)  # False\n",
        "\n",
        "# >=  greater than or equal to\n",
        "print(5 >= 2)  # True\n",
        "\n",
        "# <=  less than or equal to\n",
        "print(5 <= 1)  # False"
      ]
    },
    {
      "cell_type": "markdown",
      "metadata": {
        "id": "dcJOoB9ECjpy"
      },
      "source": [
        "### Mantıksal Operatörler"
      ]
    },
    {
      "cell_type": "code",
      "execution_count": null,
      "metadata": {
        "id": "1mxOLNLTCjpz",
        "outputId": "5f006047-8bdc-40bb-a70e-a29b1e36171d",
        "colab": {
          "base_uri": "https://localhost:8080/"
        }
      },
      "outputs": [
        {
          "output_type": "stream",
          "name": "stdout",
          "text": [
            "True\n",
            "False\n",
            "True\n",
            "True\n",
            "False\n",
            "False\n",
            "8\n",
            "5\n"
          ]
        }
      ],
      "source": [
        "# and, or, not\n",
        "# Bu operatörler koşullu ifadeleri birleştirmek için kullanılır ve boolean değerler ile kullanırlar\n",
        "\n",
        "# and\n",
        "print(True and True)  # True\n",
        "print(True and False)  # False\n",
        "\n",
        "# or\n",
        "print(True or True)  # True\n",
        "print(True or False)  # True\n",
        "print(False or False)  # False\n",
        "\n",
        "# not\n",
        "print(not True)  # False\n",
        "\n",
        "print(5 and 2 and 3 and 8) # and ifadesinde tüm içeriğin True olması önemli olduğundan sonuna kadar tüm değerler kontrol edilir ve eğer False değer yoksa son değer ne ise o döner\n",
        "print(5 or 2 or 6  or 7 or 9)  # or ifadesinde ise bir tane True değer sonucun True dönmesi için yeterlidir. Dolayısıyla ilk True ifadede sonuç döner."
      ]
    },
    {
      "cell_type": "markdown",
      "metadata": {
        "id": "DzD1TLNfCjpz"
      },
      "source": [
        "### Atama Operatörleri"
      ]
    },
    {
      "cell_type": "code",
      "execution_count": null,
      "metadata": {
        "id": "s-39-A0BCjpz",
        "outputId": "f35574b9-b3f3-45f8-ae87-a45e71ca6754",
        "colab": {
          "base_uri": "https://localhost:8080/"
        }
      },
      "outputs": [
        {
          "output_type": "stream",
          "name": "stdout",
          "text": [
            "72\n",
            "62\n",
            "186\n",
            "93.0\n"
          ]
        }
      ],
      "source": [
        "# num değişkenine 67 değerini atayalım\n",
        "num = 67\n",
        "\n",
        "# +=  toplama ve atama\n",
        "num += 5  # num = num + 5\n",
        "print(num)  # 72\n",
        "\n",
        "# -=  çıkarma ve atama\n",
        "num -= 10  # num = num - 10\n",
        "print(num)  # 62\n",
        "\n",
        "# *=   çarpma ve atama\n",
        "num *= 3  # num = num * 3\n",
        "print(num)  # 186\n",
        "\n",
        "# /=   bölme ve atama\n",
        "num /= 2  # num = num / 2\n",
        "print(num)  # 93.0"
      ]
    },
    {
      "cell_type": "markdown",
      "metadata": {
        "id": "Sbd3nRYpCjpz"
      },
      "source": [
        "### in, is operatörleri"
      ]
    },
    {
      "cell_type": "code",
      "execution_count": null,
      "metadata": {
        "id": "W2YZOi4iCjpz",
        "outputId": "0573cae8-2847-483a-b40c-500098d18f4e",
        "colab": {
          "base_uri": "https://localhost:8080/"
        }
      },
      "outputs": [
        {
          "output_type": "stream",
          "name": "stdout",
          "text": [
            "True\n",
            "True\n",
            "False\n",
            "True\n",
            "True\n",
            "\n",
            "\n",
            "False\n",
            "<class 'list'>\n",
            "True\n"
          ]
        }
      ],
      "source": [
        "my_list = [1, 2, 3, 4, 5]\n",
        "\n",
        "# in\n",
        "print(5 in my_list)  # True\n",
        "\n",
        "# not in\n",
        "print(6 not in my_list)  # True\n",
        "\n",
        "num1 = 6\n",
        "num2 = 5\n",
        "# is\n",
        "print(num1 is num2)  # False\n",
        "\n",
        "num3 = num2\n",
        "print(num2 is num3)  # True\n",
        "\n",
        "# is not\n",
        "print(num1 is not num2)  # True\n",
        "\n",
        "print(\"\\n\")\n",
        "print(my_list is list) # False\n",
        "print(type(my_list))  # <class 'list'>\n",
        "print(type(my_list) is list)  # True"
      ]
    },
    {
      "cell_type": "markdown",
      "metadata": {
        "id": "MLEmaa3RCjpz"
      },
      "source": [
        "## Tip Dönüşümleri"
      ]
    },
    {
      "cell_type": "code",
      "execution_count": null,
      "metadata": {
        "id": "uI2NRCp7Cjpz",
        "outputId": "3217b3b3-e0c3-414f-c124-cbe5d1dcaae2",
        "colab": {
          "base_uri": "https://localhost:8080/"
        }
      },
      "outputs": [
        {
          "output_type": "stream",
          "name": "stdout",
          "text": [
            "2.0\n",
            "True\n",
            "True\n",
            "12\n"
          ]
        }
      ],
      "source": [
        "value = 2 # int\n",
        "\n",
        "value = float(value)\n",
        "print(value)\n",
        "\n",
        "value = bool(value)\n",
        "print(value)\n",
        "\n",
        "value = str(value)\n",
        "print(value) # Bir önceki adımda boolean True değerini almıştı, stringe çevirdiğimizde de \"True\" döner, ancak tırnak işareti hücre çıktısında görünmez.\n",
        "\n",
        "value2 = 12.78\n",
        "print(int(value2))\n",
        "# float tipinden integer tipine dönüşüm yaparken virgülden sonrası silinir ve kalan tam kısım sonuçtur. Yani bir yuvarlama yapılmaz."
      ]
    },
    {
      "cell_type": "markdown",
      "metadata": {
        "id": "tgFtOkngCjpz"
      },
      "source": [
        "## keyword kullanımı ve Kaçış Dizileri"
      ]
    },
    {
      "cell_type": "markdown",
      "metadata": {
        "id": "1gAjHpPRCjpz"
      },
      "source": [
        "## Veri Yapıları"
      ]
    },
    {
      "cell_type": "markdown",
      "metadata": {
        "id": "eS9wpG_dCjpz"
      },
      "source": [
        "### Listeler"
      ]
    },
    {
      "cell_type": "code",
      "execution_count": null,
      "metadata": {
        "id": "XvJHfxTXCjpz",
        "outputId": "27792332-17ff-4f7f-8ea7-9c67117ff992"
      },
      "outputs": [
        {
          "name": "stdout",
          "output_type": "stream",
          "text": [
            "[1, 2, 3, 4, 5]\n",
            "['hello', 'world', 'this', 'is', 'python']\n",
            "[1, 2.5, False, (5+7j), 'text', [6, 8, 11]]\n"
          ]
        }
      ],
      "source": [
        "list1 = [1, 2, 3, 4, 5]\n",
        "list2 = [\"hello\", \"world\", \"this\", \"is\", \"python\"]\n",
        "list3 = [1, 2.5, False, (5+7j), \"text\", [6,8,11]] # Bir listede farklı veri tipleri bir arada bulunabilir.\n",
        "\n",
        "print(list1)\n",
        "print(list2)\n",
        "print(list3)"
      ]
    },
    {
      "cell_type": "code",
      "execution_count": null,
      "metadata": {
        "id": "vf0k0tb5Cjp0",
        "outputId": "9d293a83-abe2-4c2f-cf96-808e290d0037"
      },
      "outputs": [
        {
          "name": "stdout",
          "output_type": "stream",
          "text": [
            "[]\n",
            "['h', 'e', 'y']\n",
            "[1, 2, 3, 4]\n",
            "[2, 4, 6, 8]\n",
            "[10, 20, 30, 40, 50, 60, 70, 80, 90]\n"
          ]
        }
      ],
      "source": [
        "# liste bir ön tanımlı veri tipi olduğundan list() constructor'ını bir liste oluşturmak için kullanabiliriz.\n",
        "# fakat list() constructor'ı yanlızca iterable veri tiplerini parametre olarak alır.\n",
        "# Dolayısıyla başka bir liste, set, tuple, dictionary anahtarları, string ya da range parametre olarak verilebilir.\n",
        "\n",
        "list4 = list() # empty constructor\n",
        "print(list4)\n",
        "\n",
        "list5 = list(\"hey\") # with string\n",
        "print(list5)\n",
        "\n",
        "list6 = list([1,2,3,4]) # with another list\n",
        "print(list6)\n",
        "\n",
        "print( list((2,4,6,8)) ) # with tuple\n",
        "\n",
        "print( list(range(10,100, 10)) ) # with range function"
      ]
    },
    {
      "cell_type": "code",
      "execution_count": null,
      "metadata": {
        "id": "sqA3rd_VCjp0",
        "outputId": "4da92f5c-a55c-4e26-90d9-72a2bce84a08",
        "colab": {
          "base_uri": "https://localhost:8080/"
        }
      },
      "outputs": [
        {
          "output_type": "stream",
          "name": "stdout",
          "text": [
            "[1, 2, 4, 85, 96, 12, 45, 0, -1, 74.5]\n",
            "index-0: 1\n",
            "index-0: 32\n"
          ]
        },
        {
          "output_type": "execute_result",
          "data": {
            "text/plain": [
              "[32, 2, 4, 85, 96, 12, 45, 0, -1, 74.5]"
            ]
          },
          "metadata": {},
          "execution_count": 20
        }
      ],
      "source": [
        "# listeler değiştirilebilir (mutable) demiştik. Bu demek oluyorki liste ve içeriği tanımlandıktan sonra güncellenebilir.\n",
        "my_list = [1, 2, 4, 85, 96, 12, 45, 0, -1, 74.5]\n",
        "\n",
        "print(my_list)\n",
        "print(\"index-0:\", my_list[0])\n",
        "\n",
        "my_list[0] = 32\n",
        "\n",
        "print(\"index-0:\", my_list[0])\n",
        "\n",
        "# yeni hali\n",
        "my_list"
      ]
    },
    {
      "cell_type": "code",
      "execution_count": null,
      "metadata": {
        "id": "dXj2kxtRCjp1",
        "colab": {
          "base_uri": "https://localhost:8080/"
        },
        "outputId": "8721ef39-5c89-4b84-ec6e-28a3f630a842"
      },
      "outputs": [
        {
          "output_type": "stream",
          "name": "stdout",
          "text": [
            "Item in the index 0: 1\n",
            "Item in the index 5: 12\n",
            "Item in the index -1: 74.5\n",
            "Item in the index -5: 12\n"
          ]
        }
      ],
      "source": [
        "# indexleme\n",
        "my_list = [1, 2, 4, 85, 96, 12, 45, 0, -1, 74.5]\n",
        "# list indeksleri 0'dan başlar\n",
        "print(\"Item in the index 0:\" , my_list[0])\n",
        "print(\"Item in the index 5:\" , my_list[5])\n",
        "\n",
        "# ayrıca listeler sondan da negatif olarak indekslenebilirler\n",
        "# bu şekilde indekslendiğinde indeks -1 ile başlar\n",
        "print(\"Item in the index -1:\" , my_list[-1])\n",
        "print(\"Item in the index -5:\" , my_list[-5])\n",
        "\n",
        "# my_list[20]         # IndexError: list index out of range\n",
        "# bir listenin indekslenebilir sayısından öteye geçmeyin. Bu hataya neden olacaktır.\n",
        "# bir listenin alabileceği en büyük indeks değeri o listenin eleman sayısının 1 eksiği kadardır.\n",
        "# Tersten indexleme de ise o listenin eleman sayısı kadardır."
      ]
    },
    {
      "cell_type": "code",
      "execution_count": null,
      "metadata": {
        "id": "Db6itBQzCjp1",
        "outputId": "a6dbd12e-e710-4961-d7a7-7fb32d0260b3",
        "colab": {
          "base_uri": "https://localhost:8080/"
        }
      },
      "outputs": [
        {
          "output_type": "stream",
          "name": "stdout",
          "text": [
            "[1, 2, 4, 85, 96, 12, 45, 0, -1, 74.5]\n",
            "[1, 2, 4, 85, 96, 12, 45, 0]\n",
            "[85, 12, 0]\n",
            "[1, 85, 45]\n",
            "10\n"
          ]
        }
      ],
      "source": [
        "# dilimleme (slicing)\n",
        "# [start_index : end_index : step]\n",
        "# slicing yöntemi bir listedeki elemanları belirttiğimiz indeksten başlayıp belirttiğimiz indeksteki elemana kadar yine belirtilen adım sayısı ile almaya denir.\n",
        "# -e kadar dediğimiz, bitiş indeks elemanı saymaya dahil edilmez.\n",
        "my_list = [1, 2, 4, 85, 96, 12, 45, 0, -1, 74.5]\n",
        "\n",
        "print(my_list[::])     # tüm elemanları alır\n",
        "print(my_list[0: 8])   # 0. indeksten 8. indekse kadar tüm elemanları alır.\n",
        "print(my_list[3: 8: 2])    # İkişer ikişer ilerleyerek 3. indeksten 8. indekse kadar elemanları alır\n",
        "print(my_list[0: -3: 3])   # Üçer üçer ilerleyerek 0. indeksten -3. indekse kadar elemanları alır.\n",
        "\n",
        "# len() bir listenin eleman sayısını yani uzunluğunu döndürür.\n",
        "print(len(my_list))"
      ]
    },
    {
      "cell_type": "code",
      "execution_count": null,
      "metadata": {
        "id": "kNvQg_dSCjp1",
        "outputId": "fceccf81-c87f-4047-c3c8-0530b19fe1c2"
      },
      "outputs": [
        {
          "data": {
            "text/plain": [
              "['__add__',\n",
              " '__class__',\n",
              " '__class_getitem__',\n",
              " '__contains__',\n",
              " '__delattr__',\n",
              " '__delitem__',\n",
              " '__dir__',\n",
              " '__doc__',\n",
              " '__eq__',\n",
              " '__format__',\n",
              " '__ge__',\n",
              " '__getattribute__',\n",
              " '__getitem__',\n",
              " '__getstate__',\n",
              " '__gt__',\n",
              " '__hash__',\n",
              " '__iadd__',\n",
              " '__imul__',\n",
              " '__init__',\n",
              " '__init_subclass__',\n",
              " '__iter__',\n",
              " '__le__',\n",
              " '__len__',\n",
              " '__lt__',\n",
              " '__mul__',\n",
              " '__ne__',\n",
              " '__new__',\n",
              " '__reduce__',\n",
              " '__reduce_ex__',\n",
              " '__repr__',\n",
              " '__reversed__',\n",
              " '__rmul__',\n",
              " '__setattr__',\n",
              " '__setitem__',\n",
              " '__sizeof__',\n",
              " '__str__',\n",
              " '__subclasshook__',\n",
              " 'append',\n",
              " 'clear',\n",
              " 'copy',\n",
              " 'count',\n",
              " 'extend',\n",
              " 'index',\n",
              " 'insert',\n",
              " 'pop',\n",
              " 'remove',\n",
              " 'reverse',\n",
              " 'sort']"
            ]
          },
          "execution_count": 40,
          "metadata": {},
          "output_type": "execute_result"
        }
      ],
      "source": [
        "# Listelerde başka ne gibi işlemler yapılabilir?\n",
        "dir(list)"
      ]
    },
    {
      "cell_type": "code",
      "source": [
        "my_list = [1, 2, 4, 85, 96, 12, 45, 0, -1, 74.5]"
      ],
      "metadata": {
        "id": "xx-MKhWixK8K"
      },
      "execution_count": null,
      "outputs": []
    },
    {
      "cell_type": "code",
      "execution_count": null,
      "metadata": {
        "id": "-RAnjpmLCjp1",
        "outputId": "ffbfd6cc-650c-4803-9930-9e51f8e95e46",
        "colab": {
          "base_uri": "https://localhost:8080/"
        }
      },
      "outputs": [
        {
          "output_type": "execute_result",
          "data": {
            "text/plain": [
              "[1, 2, 4, 85, 96, 12, 45, 0, -1, 74.5, 32]"
            ]
          },
          "metadata": {},
          "execution_count": 24
        }
      ],
      "source": [
        "# append() fonksiyonu belirtilen değeri listenin sonuna ekler\n",
        "\n",
        "my_list.append(32)\n",
        "my_list"
      ]
    },
    {
      "cell_type": "code",
      "execution_count": null,
      "metadata": {
        "id": "3lVw4g93Cjp1",
        "outputId": "760c3caa-05e6-40dc-9791-ad50dda957cc",
        "colab": {
          "base_uri": "https://localhost:8080/"
        }
      },
      "outputs": [
        {
          "output_type": "execute_result",
          "data": {
            "text/plain": [
              "[1, 2, 4, -45, 85, 96, 12, 45, 0, -1, 74.5, 32]"
            ]
          },
          "metadata": {},
          "execution_count": 25
        }
      ],
      "source": [
        "# insert() fonksiyonu belirtilen değeri belirtilen indekse ekler\n",
        "\n",
        "my_list.insert(3, -45)\n",
        "my_list"
      ]
    },
    {
      "cell_type": "code",
      "execution_count": null,
      "metadata": {
        "id": "FHjumvgTCjp1",
        "outputId": "13ab721a-25f7-4911-aea7-5a44a7868ca5",
        "colab": {
          "base_uri": "https://localhost:8080/"
        }
      },
      "outputs": [
        {
          "output_type": "execute_result",
          "data": {
            "text/plain": [
              "1"
            ]
          },
          "metadata": {},
          "execution_count": 26
        }
      ],
      "source": [
        "# count() fonksiyonu belirtilen değerin listede kaç defa geçtiğini döndürür\n",
        "\n",
        "my_list.count(32)"
      ]
    },
    {
      "cell_type": "code",
      "execution_count": null,
      "metadata": {
        "id": "FUEsq99FCjp1",
        "outputId": "7b7c3f4f-0c4e-4274-89e7-b2cf2c5aba30",
        "colab": {
          "base_uri": "https://localhost:8080/"
        }
      },
      "outputs": [
        {
          "output_type": "execute_result",
          "data": {
            "text/plain": [
              "5"
            ]
          },
          "metadata": {},
          "execution_count": 29
        }
      ],
      "source": [
        "# index() fonksiyonu belirtilen değerin listedeki ilk indeksini döndürür\n",
        "\n",
        "my_list.index(96)"
      ]
    },
    {
      "cell_type": "code",
      "execution_count": null,
      "metadata": {
        "id": "FoBafnRCCjp1",
        "outputId": "fc250260-7e52-4d02-f1f1-f80153f15181",
        "colab": {
          "base_uri": "https://localhost:8080/"
        }
      },
      "outputs": [
        {
          "output_type": "stream",
          "name": "stdout",
          "text": [
            "32\n"
          ]
        },
        {
          "output_type": "execute_result",
          "data": {
            "text/plain": [
              "[1, 2, 4, -45, 85, 96, 12, 45, 0, -1, 74.5]"
            ]
          },
          "metadata": {},
          "execution_count": 27
        }
      ],
      "source": [
        "# pop() fonksiyonu belirtilen indeksteki elemanı listeden çıkarır ve döndürür\n",
        "# default pozisyon, index değeri -1 olduğundan hiçbir değer verilmezse listenin sonundaki elemanı çıkarır\n",
        "\n",
        "popped_value = my_list.pop()\n",
        "print(popped_value)\n",
        "my_list"
      ]
    },
    {
      "cell_type": "code",
      "execution_count": null,
      "metadata": {
        "id": "rdujy0poCjp1",
        "outputId": "1197f024-f946-4a76-ac96-469cab519ebb",
        "colab": {
          "base_uri": "https://localhost:8080/"
        }
      },
      "outputs": [
        {
          "output_type": "execute_result",
          "data": {
            "text/plain": [
              "[1, 2, 4, -45, 96, 12, 45, 0, -1, 74.5]"
            ]
          },
          "metadata": {},
          "execution_count": 28
        }
      ],
      "source": [
        "# remove() fonksiyonu belirtilen değeri listeden çıkarır.\n",
        "# eğer listede birden fazla aynı değer varsa ilk bulduğu değeri çıkarır.\n",
        "\n",
        "my_list.remove(85)\n",
        "my_list"
      ]
    },
    {
      "cell_type": "code",
      "execution_count": null,
      "metadata": {
        "id": "j3VlDRhZCjp1",
        "outputId": "cc703c12-ce8f-494f-bd65-9fd14cd69d5e",
        "colab": {
          "base_uri": "https://localhost:8080/"
        }
      },
      "outputs": [
        {
          "output_type": "execute_result",
          "data": {
            "text/plain": [
              "[96, 85, 74.5, 45, 32, 12, 4, 2, 1, 0, -1, -45]"
            ]
          },
          "metadata": {},
          "execution_count": 12
        }
      ],
      "source": [
        "# reverse() fonksiyonu listeyi ters çevirir\n",
        "\n",
        "my_list.reverse()\n",
        "my_list"
      ]
    },
    {
      "cell_type": "code",
      "execution_count": null,
      "metadata": {
        "id": "0f9lJHD-Cjp2",
        "outputId": "b640663a-6937-47a7-ffbb-cac014679b09"
      },
      "outputs": [
        {
          "data": {
            "text/plain": [
              "[-45, -1, 0, 2, 4, 12, 32, 45, 74.5, 96]"
            ]
          },
          "execution_count": 47,
          "metadata": {},
          "output_type": "execute_result"
        }
      ],
      "source": [
        "# sort() fonksiyonu listeyi sıralar\n",
        "# default olarak küçükten büyüğe sıralar, eğer tam tersi bir sıralama istenirse reverse parametresi True olarak verilmelidir.\n",
        "\n",
        "my_list.sort()\n",
        "my_list"
      ]
    },
    {
      "cell_type": "code",
      "execution_count": null,
      "metadata": {
        "id": "bLehMflMCjp2",
        "outputId": "c790d007-aaf1-4770-f9f1-19e04792e079",
        "colab": {
          "base_uri": "https://localhost:8080/"
        }
      },
      "outputs": [
        {
          "output_type": "execute_result",
          "data": {
            "text/plain": [
              "[]"
            ]
          },
          "metadata": {},
          "execution_count": 29
        }
      ],
      "source": [
        "# clear() fonksiyonu listeyi temizler, yani içeriğini siler geriye boş bir liste döner\n",
        "my_list.clear()\n",
        "my_list"
      ]
    },
    {
      "cell_type": "code",
      "execution_count": null,
      "metadata": {
        "id": "CflROv6fCjp2",
        "outputId": "0394f79c-0ba3-49a7-bda1-416056922cd6",
        "colab": {
          "base_uri": "https://localhost:8080/"
        }
      },
      "outputs": [
        {
          "output_type": "execute_result",
          "data": {
            "text/plain": [
              "[4, 5, 8]"
            ]
          },
          "metadata": {},
          "execution_count": 30
        }
      ],
      "source": [
        "# extend() fonksiyonu bir listenin elemanlarını diğerine ekler\n",
        "list2 = [4,5,8]\n",
        "my_list.extend(list2)\n",
        "my_list"
      ]
    },
    {
      "cell_type": "code",
      "execution_count": null,
      "metadata": {
        "id": "4CzbmDUICjp2",
        "outputId": "3b251a82-cc39-4f61-839f-240d14fcf150"
      },
      "outputs": [
        {
          "data": {
            "text/plain": [
              "[4, 5, 8]"
            ]
          },
          "execution_count": 51,
          "metadata": {},
          "output_type": "execute_result"
        }
      ],
      "source": [
        "# copy() fonksiyonu bir listenin kopyasını döndürür\n",
        "\n",
        "copied_list = my_list.copy()\n",
        "copied_list"
      ]
    },
    {
      "cell_type": "code",
      "execution_count": null,
      "metadata": {
        "id": "JMaZNpqgCjp2",
        "outputId": "5e203b04-5315-4a1a-95e5-2624dc65c7d3"
      },
      "outputs": [
        {
          "name": "stdout",
          "output_type": "stream",
          "text": [
            "[1, 4, 9, 16, 25]\n",
            "[1, 4, 9, 16, 25]\n"
          ]
        }
      ],
      "source": [
        "# list comprehension\n",
        "\n",
        "numbers = [1, 2, 3, 4, 5]\n",
        "squared_numbers = [x**2 for x in numbers]\n",
        "print(squared_numbers)\n",
        "\n",
        "# Bu işlemi for döngüsü ile de yapabilirdik\n",
        "squared_numbers2 = []\n",
        "for x in numbers:\n",
        "    squared_numbers2.append(x**2)\n",
        "print(squared_numbers2)"
      ]
    },
    {
      "cell_type": "code",
      "execution_count": null,
      "metadata": {
        "id": "-T4U_wc_Cjp2",
        "outputId": "9df1e37d-0b37-4431-f0fc-58ff1a637a43"
      },
      "outputs": [
        {
          "name": "stdout",
          "output_type": "stream",
          "text": [
            "(1, 2, 3.5, 8, 10)\n"
          ]
        }
      ],
      "source": [
        "### Demetler (Tuples)\n",
        "\n",
        "my_tuple = (1, 2, 3.5, 8, 10)\n",
        "print(my_tuple)"
      ]
    },
    {
      "cell_type": "code",
      "execution_count": null,
      "metadata": {
        "id": "fFr9RafzCjp2",
        "outputId": "56ed1b5a-55f7-40d1-a9a7-389bdf2ff34d"
      },
      "outputs": [
        {
          "name": "stdout",
          "output_type": "stream",
          "text": [
            "1\n",
            "3.5\n",
            "(1, 2, 3.5, 8, 10)\n",
            "(10, 8, 3.5, 2, 1)\n",
            "(2, 8)\n",
            "1\n"
          ]
        }
      ],
      "source": [
        "# Listelerde yaptığımız pek çok şeyi demetler ile de yapabiliriz.\n",
        "print(my_tuple[0])\n",
        "print(my_tuple[-3])\n",
        "print(my_tuple[:])\n",
        "print(my_tuple[::-1])\n",
        "print(my_tuple[1::2])\n",
        "print(my_tuple.count(1))"
      ]
    },
    {
      "cell_type": "code",
      "execution_count": null,
      "metadata": {
        "id": "4K5OdMdPCjp2"
      },
      "outputs": [],
      "source": [
        "# Ancak demetler değiştirilemez (immutable) veri tipleridir. Yani bir demet oluşturulduktan sonra içeriği değiştirilemez.\n",
        "# Bu nedenle demetlerde append(), insert(), pop(), remove(), reverse(), sort() gibi fonksiyonlar kullanılamaz.\n",
        "# Ancak count() ve index() fonksiyonları kullanılabilir.\n",
        "\n",
        "# my_tuple[0] = 5  # TypeError: 'tuple' object does not support item assignment"
      ]
    },
    {
      "cell_type": "code",
      "execution_count": null,
      "metadata": {
        "id": "usFF0GzbCjp2",
        "outputId": "74aa7486-003c-49ea-fd3b-5bd153e71e43",
        "colab": {
          "base_uri": "https://localhost:8080/"
        }
      },
      "outputs": [
        {
          "output_type": "stream",
          "name": "stdout",
          "text": [
            "('python101', 'mart')\n",
            "bootcamp adı: python101\n",
            "ay: mart\n"
          ]
        }
      ],
      "source": [
        "# tuple içeriğinin çıkarılması\n",
        "\n",
        "t = (\"python101\", \"mart\")\n",
        "print(t)\n",
        "\n",
        "bootcamp, month = t\n",
        "\n",
        "print(\"bootcamp adı:\", bootcamp)\n",
        "print(\"ay:\", month)"
      ]
    },
    {
      "cell_type": "markdown",
      "metadata": {
        "id": "Fln_dP-aCjp2"
      },
      "source": [
        "### Set\n",
        "\n",
        "Set, Python'da benzersiz öğelerin sıralanmamış bir koleksiyonu olan bir veri yapısıdır. Aslında matematikteki kümelere denk gelir.\n",
        "\n",
        "* Set yinelenen değerlere izin vermez, yani bir kümedeki her eleman benzersizdir.\n",
        "* Set sırasız olduğundan, indekslemeyi veya dilimlemeyi/slicing desteklemezler.\n",
        "* Kümeler, farklı öğeleri depolamanız ve birleşim, kesişim ve fark gibi matematiksel küme işlemlerini gerçekleştirmeniz gerektiğinde kullanışlıdır."
      ]
    },
    {
      "cell_type": "code",
      "execution_count": null,
      "metadata": {
        "id": "0uJBI07qCjp2",
        "outputId": "b8b25d70-12d5-4d1d-a2b9-a72bf3711803",
        "colab": {
          "base_uri": "https://localhost:8080/"
        }
      },
      "outputs": [
        {
          "output_type": "execute_result",
          "data": {
            "text/plain": [
              "{1, 3, 6, 7, 9, 14, 52}"
            ]
          },
          "metadata": {},
          "execution_count": 32
        }
      ],
      "source": [
        "my_set = set([1,1,6,9,7,3,14,52,3,1])\n",
        "my_set"
      ]
    },
    {
      "cell_type": "code",
      "execution_count": null,
      "metadata": {
        "id": "iUW9tUfiCjp3"
      },
      "outputs": [],
      "source": [
        "# indexing and slicing is not allowed\n",
        "# my_set[0]  # TypeError: 'set' object is not subscriptable"
      ]
    },
    {
      "cell_type": "code",
      "execution_count": null,
      "metadata": {
        "id": "VvGhqNVTCjp3",
        "outputId": "2f5d1f9b-3d7a-4a9d-b464-c4773996088b",
        "colab": {
          "base_uri": "https://localhost:8080/"
        }
      },
      "outputs": [
        {
          "output_type": "stream",
          "name": "stdout",
          "text": [
            "{1, 2, 3, 5, 6, 7}\n",
            "{1, 2, 3, 8, 9, 10}\n"
          ]
        }
      ],
      "source": [
        "set1 = {1,2,3,7,6,5}\n",
        "set2 = {1,2,3,10,9,8}\n",
        "\n",
        "print(set1)\n",
        "print(set2)"
      ]
    },
    {
      "cell_type": "code",
      "execution_count": null,
      "metadata": {
        "id": "SyFTeIGtCjp3",
        "outputId": "f4ad94a7-6f64-4a6e-b49a-4d567d7a5bf1",
        "colab": {
          "base_uri": "https://localhost:8080/"
        }
      },
      "outputs": [
        {
          "output_type": "stream",
          "name": "stdout",
          "text": [
            "{5, 6, 7}\n",
            "{1, 2, 3, 5, 6, 7, 8, 9, 10}\n",
            "{1, 2, 3}\n",
            "{5, 6, 7, 8, 9, 10}\n",
            "False\n",
            "False\n"
          ]
        }
      ],
      "source": [
        "print(set1.difference(set2)) # set1'de olup set2'de olmayan elemanlar\n",
        "print(set1.union(set2)) # set1 ve set2'nin birleşimi\n",
        "print(set1.intersection(set2)) # set1 ve set2'nin kesişimi\n",
        "print(set1.symmetric_difference(set2)) # set1 ve set2'nin birleşiminden kesişimini çıkartır\n",
        "print(set1.issubset(set2)) # set1 set2'nin alt kümesi midir?\n",
        "print(set1.issuperset(set2)) # set1 set2'nin üst kümesi midir?"
      ]
    },
    {
      "cell_type": "markdown",
      "metadata": {
        "id": "YFRRhPrgCjp3"
      },
      "source": [
        "### Dictionary (Sözlük)\n",
        "\n",
        "Sözlük, Python'da değiştirilebilir, sıralanmamış bir anahtar-değer çiftleri koleksiyonu olan bir veri yapısıdır.\n",
        "\n",
        "* Sözlükler, anahtar-değer çiftlerinin küme ayraçları { } içine yerleştirilmesiyle tanımlanır, burada her anahtar iki nokta üst üste : kullanılarak bir değerle ilişkilendirilir.\n",
        "* Sözlük anahtarları benzersiz ve değişmez olmalıdır, oysa değerler herhangi bir veri türünde olabilir.\n",
        "* Sözlükler sırasız olduğu için (Python 3.7'den önce), indekslemeyi desteklemezler, ancak öğelere anahtarlar kullanılarak erişilebilir.\n",
        "* Sözlükler, pozisyonlar yerine anlamlı tanımlayıcılara dayalı olarak verileri depolamanız ve almanız gerektiğinde kullanışlıdır."
      ]
    },
    {
      "cell_type": "code",
      "execution_count": null,
      "metadata": {
        "id": "pzlkv_0bCjp3",
        "outputId": "e36dc35b-2e1f-4207-a1d7-edb7ae493ba2",
        "colab": {
          "base_uri": "https://localhost:8080/"
        }
      },
      "outputs": [
        {
          "output_type": "stream",
          "name": "stdout",
          "text": [
            "['python101', 'ai101']\n",
            "akbank\n",
            "ai101\n"
          ]
        }
      ],
      "source": [
        "bootcamps = {\n",
        "    \"march\" : [\"python101\", \"ai101\"],\n",
        "    \"sponsor\" : \"akbank\"\n",
        "}\n",
        "\n",
        "print(bootcamps[\"march\"])\n",
        "print(bootcamps[\"sponsor\"])\n",
        "print(bootcamps[\"march\"][1])"
      ]
    },
    {
      "cell_type": "code",
      "execution_count": null,
      "metadata": {
        "id": "Gd-xv3sQCjp3",
        "outputId": "43e47901-5d2f-459a-e2bf-520357d6fcdd",
        "colab": {
          "base_uri": "https://localhost:8080/"
        }
      },
      "outputs": [
        {
          "output_type": "stream",
          "name": "stdout",
          "text": [
            "dict_keys(['march', 'sponsor'])\n",
            "dict_values([['python101', 'ai101'], 'akbank'])\n",
            "dict_items([('march', ['python101', 'ai101']), ('sponsor', 'akbank')])\n",
            "['python101', 'ai101']\n"
          ]
        }
      ],
      "source": [
        "print(bootcamps.keys())\n",
        "print(bootcamps.values())\n",
        "print(bootcamps.items())\n",
        "print(bootcamps.get(\"march\"))"
      ]
    },
    {
      "cell_type": "code",
      "execution_count": null,
      "metadata": {
        "id": "BSvWg47jCjp3",
        "outputId": "96aee0cb-519a-4ac8-fc80-3bdd00321ae2"
      },
      "outputs": [
        {
          "data": {
            "text/plain": [
              "{'march': ['python101', 'ai101'],\n",
              " 'sponsor': 'akbank',\n",
              " 'september': ['prompt eng.generative ai']}"
            ]
          },
          "execution_count": 75,
          "metadata": {},
          "output_type": "execute_result"
        }
      ],
      "source": [
        "bootcamps.update({\"september\": [\"prompt eng.\" \"generative ai\"]})\n",
        "bootcamps"
      ]
    },
    {
      "cell_type": "code",
      "execution_count": null,
      "metadata": {
        "id": "8-_VxXpmCjp3",
        "outputId": "f2bdafc8-d915-46b6-efa0-581414907d4f"
      },
      "outputs": [
        {
          "data": {
            "text/plain": [
              "{'march': ['python101', 'ai101'],\n",
              " 'sponsor': 'akbank',\n",
              " 'september': ['prompt eng.generative ai'],\n",
              " 'july': ['deep learning', 'image processing']}"
            ]
          },
          "execution_count": 76,
          "metadata": {},
          "output_type": "execute_result"
        }
      ],
      "source": [
        "# Dict veri yapısı ayrıca bu şekilde de güncellenebilir.\n",
        "bootcamps[\"july\"] = [\"deep learning\", \"image processing\"]\n",
        "bootcamps"
      ]
    },
    {
      "cell_type": "code",
      "execution_count": null,
      "metadata": {
        "id": "QibnF8UGCjp3",
        "outputId": "71918371-039b-4c55-8a01-048a80452a68"
      },
      "outputs": [
        {
          "name": "stdout",
          "output_type": "stream",
          "text": [
            "Alışveriş listesi: brocoli, apple\n"
          ]
        }
      ],
      "source": [
        "# str.format_map()\n",
        "# format_map(mapping)\n",
        "shoppingList = {\"fruit\":\"apple\", \"vegetable\":\"brocoli\"}\n",
        "print(\"Alışveriş listesi: {vegetable}, {fruit}\".format_map(shoppingList))"
      ]
    },
    {
      "cell_type": "markdown",
      "metadata": {
        "id": "GZ_xPJWbCjp3"
      },
      "source": [
        "## Koşullar: If, Elif, Else"
      ]
    },
    {
      "cell_type": "markdown",
      "metadata": {
        "id": "CrUzTtMbCjp3"
      },
      "source": [
        "Koşullar, programın belirli durumlara göre farklı işlemler yapmasını sağlayan yapılar olup, if-elif-else ifadeleriyle oluşturulur. Python'da koşullar boolean (True/False) ifadelerle değerlendirilir ve mantıksal operatörler (==, !=, >, <, >=, <=) kullanılarak oluşturulabilir.\n",
        "\n",
        "Koşulları programda eğer şu durum olursa şunu yap, şöyle olursa şunu yap, hiçbiri olmazsa şunu yap blokları olarak düşünebiliriz.\n",
        "\n",
        "Koşul Yapısı\n",
        "\n",
        "* if → Eğer belirtilen koşul doğru (True) ise, blok içindeki kod çalışır.\n",
        "* elif → İlk koşul sağlanmazsa, alternatif bir koşul kontrol edilir. elif ifadesinden gerektiği kadar kullanabilir.\n",
        "* else → Yukarıdaki hiçbir koşul sağlanmazsa, bu blok çalışır."
      ]
    },
    {
      "cell_type": "code",
      "execution_count": null,
      "metadata": {
        "id": "l-63TUVoCjp3",
        "outputId": "b763e18f-225a-4b76-b60e-1a6328805b00",
        "colab": {
          "base_uri": "https://localhost:8080/"
        }
      },
      "outputs": [
        {
          "output_type": "stream",
          "name": "stdout",
          "text": [
            "No, this bootcamp doesn't involve Deep Learning\n"
          ]
        }
      ],
      "source": [
        "text = \"GAIH Python & AI 101 Bootcamp\"\n",
        "\n",
        "if \"Deep Learning\" in text:\n",
        "    print(\"Yes, this bootcamp involves AI\")\n",
        "else:\n",
        "    print(\"No, this bootcamp doesn't involve Deep Learning\")\n"
      ]
    },
    {
      "cell_type": "code",
      "execution_count": null,
      "metadata": {
        "id": "B0HQHyLqCjp4",
        "outputId": "3fbd60ea-1cae-47bb-b417-2092eed7384b",
        "colab": {
          "base_uri": "https://localhost:8080/"
        }
      },
      "outputs": [
        {
          "output_type": "stream",
          "name": "stdout",
          "text": [
            "You are an adult.\n"
          ]
        }
      ],
      "source": [
        "age = 20\n",
        "\n",
        "if age < 18:\n",
        "    print(\"You are a minor.\")\n",
        "elif age == 18:\n",
        "    print(\"You are exactly 18!\")\n",
        "else:\n",
        "    print(\"You are an adult.\")"
      ]
    },
    {
      "cell_type": "code",
      "execution_count": null,
      "metadata": {
        "id": "gEyv7EcXCjp4",
        "outputId": "01ed14b4-fe89-4943-ef10-e6f7ca4d6793",
        "colab": {
          "base_uri": "https://localhost:8080/"
        }
      },
      "outputs": [
        {
          "output_type": "stream",
          "name": "stdout",
          "text": [
            "True\n"
          ]
        }
      ],
      "source": [
        "# nested conditional statements\n",
        "int_num = 1\n",
        "float_num = 2.5\n",
        "\n",
        "if (type(int_num) == int) and (type(float_num) == float):\n",
        "    if float_num >= 1:\n",
        "        print(True)\n",
        "    else:\n",
        "        print(False)"
      ]
    },
    {
      "cell_type": "markdown",
      "metadata": {
        "id": "ApptN9N2Cjp4"
      },
      "source": [
        "## Döngüler: for, range, enumarate, while, break, continue"
      ]
    },
    {
      "cell_type": "code",
      "execution_count": null,
      "metadata": {
        "id": "TeJfaG9OCjp4",
        "outputId": "88ebd53d-bd0f-45cc-9081-736a2d11e15a",
        "colab": {
          "base_uri": "https://localhost:8080/"
        }
      },
      "outputs": [
        {
          "output_type": "stream",
          "name": "stdout",
          "text": [
            "H\n",
            "e\n",
            "l\n",
            "l\n",
            "o\n"
          ]
        }
      ],
      "source": [
        "text = \"Hello\"\n",
        "for char in text:\n",
        "    print(char)"
      ]
    },
    {
      "cell_type": "code",
      "execution_count": null,
      "metadata": {
        "id": "f8a9ZWrTCjp4",
        "outputId": "34f05cfb-b1ee-4fd3-9feb-41380e124708"
      },
      "outputs": [
        {
          "data": {
            "text/plain": [
              "[1, 2, 3, 4, 5, 6, 7, 8, 9, 10, 11, 12, 13, 14, 15, 16, 17, 18, 19]"
            ]
          },
          "execution_count": 81,
          "metadata": {},
          "output_type": "execute_result"
        }
      ],
      "source": [
        "list(range(1, 20))"
      ]
    },
    {
      "cell_type": "code",
      "execution_count": null,
      "metadata": {
        "id": "nhqtnuXqCjp4",
        "outputId": "c51e8c26-1c77-4dd7-dd36-f9b84691bbcf",
        "colab": {
          "base_uri": "https://localhost:8080/"
        }
      },
      "outputs": [
        {
          "output_type": "execute_result",
          "data": {
            "text/plain": [
              "{'tek': [1, 3, 5, 7, 9, 11, 13, 15, 17, 19],\n",
              " 'çift': [2, 4, 6, 8, 10, 12, 14, 16, 18]}"
            ]
          },
          "metadata": {},
          "execution_count": 39
        }
      ],
      "source": [
        "numbers = {\n",
        "    \"tek\" : [],\n",
        "    \"çift\" : []\n",
        "}\n",
        "\n",
        "\n",
        "for item in range(1,20):\n",
        "    if (item % 2) == 0:\n",
        "        numbers[\"çift\"].append(item)\n",
        "    else:\n",
        "        numbers[\"tek\"].append(item)\n",
        "\n",
        "numbers"
      ]
    },
    {
      "cell_type": "code",
      "execution_count": null,
      "metadata": {
        "id": "QMHXJtUnCjp4",
        "outputId": "a10aea8d-2a5e-4ab2-89a3-a1f9638d6e9e",
        "colab": {
          "base_uri": "https://localhost:8080/"
        }
      },
      "outputs": [
        {
          "output_type": "stream",
          "name": "stdout",
          "text": [
            "1 x 1 = 1\n",
            "1 x 2 = 2\n",
            "1 x 3 = 3\n",
            "2 x 1 = 2\n",
            "2 x 2 = 4\n",
            "2 x 3 = 6\n",
            "3 x 1 = 3\n",
            "3 x 2 = 6\n",
            "3 x 3 = 9\n"
          ]
        }
      ],
      "source": [
        "# Döngüler, iç içe kullanılabilir (nested loops)\n",
        "# Bu durumda dıştaki döngü her bir elemanı için içteki döngüyü çalıştırır.\n",
        "\n",
        "for i in range(1, 4):\n",
        "    for j in range(1, 4):\n",
        "        print(f\"{i} x {j} = {i * j}\")"
      ]
    },
    {
      "cell_type": "code",
      "execution_count": null,
      "metadata": {
        "id": "DCyBXee_Cjp4",
        "outputId": "c8600ec3-2fba-44cb-9c61-db74e18473bc"
      },
      "outputs": [
        {
          "name": "stdout",
          "output_type": "stream",
          "text": [
            "0 python & ai\n",
            "1 ml & data analysis\n",
            "2 deep learning & image processing\n",
            "3 generative ai & prompt eng.\n"
          ]
        }
      ],
      "source": [
        "# Python'da enumerate() fonksiyonu, bir iterable (liste, tuple, string vb.) üzerinde döngü yaparken hem indeks numarasını\n",
        "# hem de eleman değerini aynı anda almayı sağlar.\n",
        "\n",
        "bootcamps = [\"python & ai\", \"ml & data analysis\", \"deep learning & image processing\", \"generative ai & prompt eng.\"]\n",
        "for index, bootcamp in enumerate(bootcamps):\n",
        "    print(index, bootcamp)\n"
      ]
    },
    {
      "cell_type": "code",
      "execution_count": null,
      "metadata": {
        "id": "Iynufbu5Cjp4",
        "outputId": "536184ee-390e-4e79-982c-f8727688dc8c"
      },
      "outputs": [
        {
          "data": {
            "text/plain": [
              "{0: 'python & ai',\n",
              " 1: 'ml & data analysis',\n",
              " 2: 'deep learning & image processing',\n",
              " 3: 'generative ai & prompt eng.'}"
            ]
          },
          "execution_count": 85,
          "metadata": {},
          "output_type": "execute_result"
        }
      ],
      "source": [
        "enum = enumerate(bootcamps)\n",
        "dict(enum)"
      ]
    },
    {
      "cell_type": "code",
      "execution_count": null,
      "metadata": {
        "id": "llwq3LvrCjp4",
        "outputId": "68fa6c15-dc2b-4b4b-a458-2c70c65f3cc6",
        "colab": {
          "base_uri": "https://localhost:8080/"
        }
      },
      "outputs": [
        {
          "output_type": "stream",
          "name": "stdout",
          "text": [
            "0\n",
            "1\n",
            "2\n",
            "3\n",
            "4\n"
          ]
        }
      ],
      "source": [
        "# While döngüsünde belirtilen koşul doğru olduğu sürece bir kod bloğunu yürütür.\n",
        "# Burada sonsuz döngülere dikkat edilmelidir.\n",
        "\n",
        "i = 0\n",
        "while i < 5:\n",
        "  print(i)\n",
        "  i += 1\n",
        "\n",
        "# while True:\n",
        "#     print(\"Hello\")"
      ]
    },
    {
      "cell_type": "code",
      "execution_count": null,
      "metadata": {
        "id": "UB3uRLgHCjp4",
        "outputId": "910d07ec-e4e7-439c-c8cc-dd5bd6c58d85",
        "colab": {
          "base_uri": "https://localhost:8080/"
        }
      },
      "outputs": [
        {
          "output_type": "stream",
          "name": "stdout",
          "text": [
            "Parolayı girin: 1\n",
            "Hatalı parola, tekrar deneyin.\n",
            "Parolayı girin: 2\n",
            "Hatalı parola, tekrar deneyin.\n",
            "Parolayı girin: 3\n",
            "Hatalı parola, tekrar deneyin.\n",
            "Parolayı girin: 1234\n",
            "Giriş başarılı!\n"
          ]
        }
      ],
      "source": [
        "while True:\n",
        "    parola = input(\"Parolayı girin: \")\n",
        "    if parola == \"1234\":\n",
        "        print(\"Giriş başarılı!\")\n",
        "        break\n",
        "    else:\n",
        "        print(\"Hatalı parola, tekrar deneyin.\")"
      ]
    },
    {
      "cell_type": "code",
      "execution_count": null,
      "metadata": {
        "id": "b--KAt2OCjp5",
        "outputId": "b919dbc9-67a1-441d-8290-39ee79ed5598",
        "colab": {
          "base_uri": "https://localhost:8080/"
        }
      },
      "outputs": [
        {
          "output_type": "stream",
          "name": "stdout",
          "text": [
            "W\n",
            "e\n",
            "l\n",
            "c\n",
            "o\n",
            "m\n",
            "e\n",
            " \n",
            "t\n",
            "o\n",
            " \n",
            "G\n",
            "A\n",
            "I\n",
            "H\n",
            " \n",
            "P\n",
            "y\n",
            "t\n",
            "h\n",
            "o\n",
            "n\n",
            " \n",
            " \n",
            "A\n",
            "I\n",
            " \n",
            "1\n",
            "0\n",
            "1\n",
            " \n",
            "B\n",
            "o\n",
            "o\n",
            "t\n",
            "c\n",
            "a\n",
            "m\n",
            "p\n"
          ]
        }
      ],
      "source": [
        "# continue ifadesi bir döngüde belirli bir koşul sağlandığında döngünün geri kalanını atlamak için kullanılır.\n",
        "text = \"Welcome to GAIH Python & AI 101 Bootcamp\"\n",
        "i = 0\n",
        "while i < len(text):\n",
        "    if text[i] == \"&\":\n",
        "        # kontrol yapıldı, & değeri eşleşti ve iterasyonun bir sonraki adımına geçilmesi için i değeri arttırılıp continue ile while döngüsüne devam edilir.\n",
        "        # bu noktadan sonra döngüdeki işlemler atlanır ve bir sonraki adıma geçilir.\n",
        "        i += 1\n",
        "        continue\n",
        "    print(text[i])\n",
        "    i += 1"
      ]
    },
    {
      "cell_type": "code",
      "execution_count": null,
      "metadata": {
        "id": "BNYcjVNUCjp5",
        "outputId": "8fa34801-df63-4678-b462-647142a2d12b",
        "colab": {
          "base_uri": "https://localhost:8080/"
        }
      },
      "outputs": [
        {
          "output_type": "stream",
          "name": "stdout",
          "text": [
            "0\n",
            "1\n",
            "2\n",
            "3\n",
            "4\n"
          ]
        }
      ],
      "source": [
        "# pass ifadesi bir bloğun hiçbir işlem yapmadan geçmesi gerektiğinde kullanılır.\n",
        "# Python'da boş bir kod bloğu hata verir. Bu durumda pass ifadesi kullanılır.\n",
        "# Örneğin bir if bloğu oluşturuldu ve içerisine daha sonra yazılacak kodlar için bir blok oluşturuldu.\n",
        "# Bu durumda pass ifadesi kullanılabilir.\n",
        "\n",
        "for i in range(5):\n",
        "    if i == 2:\n",
        "        pass  # Şu an için bir işlem yapmıyor ama hata da vermiyor.\n",
        "              # if i%2 == 0 i 2'nin katıdır.\n",
        "    print(i)\n",
        "\n"
      ]
    },
    {
      "cell_type": "markdown",
      "metadata": {
        "id": "7eoaDBXtCjp5"
      },
      "source": [
        "## try-except ile Hata Yakalama"
      ]
    },
    {
      "cell_type": "code",
      "execution_count": null,
      "metadata": {
        "id": "0W3ZfUFJCjp5",
        "outputId": "c06de0d0-a770-4f16-d67b-efc94f438ea3"
      },
      "outputs": [
        {
          "name": "stdout",
          "output_type": "stream",
          "text": [
            "Bir sayıyı sıfıra bölemezsiniz.\n",
            "İki stringi birbirinden çıkaramazsınız.\n",
            "Geçerli bir değer girin.\n",
            "Bir hata oluştu: division by zero\n"
          ]
        }
      ],
      "source": [
        "try:\n",
        "    print(5 / 0)\n",
        "except ZeroDivisionError:\n",
        "    print(\"Bir sayıyı sıfıra bölemezsiniz.\")\n",
        "\n",
        "try:\n",
        "    print(\"5\" - \"0\")\n",
        "except TypeError:\n",
        "    print(\"İki stringi birbirinden çıkaramazsınız.\")\n",
        "\n",
        "try:\n",
        "    print(int(\"hello\"))\n",
        "except ValueError:\n",
        "    print(\"Geçerli bir değer girin.\")\n",
        "\n",
        "try:\n",
        "    print(5 / 0)\n",
        "except Exception as e:\n",
        "    print(\"Bir hata oluştu:\", e)"
      ]
    },
    {
      "cell_type": "code",
      "source": [
        "# Hata türlerini ve açıklamalarını içeren sözlük\n",
        "error_types = {\n",
        "    \"ZeroDivisionError\": \"Bir sayıyı sıfıra bölmeye çalıştığında oluşur.\",\n",
        "    \"TypeError\": \"Yanlış türde bir işlem yapıldığında (örneğin string - integer çıkarma).\",\n",
        "    \"ValueError\": \"Geçersiz bir değer girildiğinde (örneğin int('hello')).\",\n",
        "    \"IndexError\": \"Listede olmayan bir indekse erişmeye çalışıldığında.\",\n",
        "    \"KeyError\": \"Sözlükte (dictionary) var olmayan bir anahtara erişildiğinde.\",\n",
        "    \"FileNotFoundError\": \"Açılmak istenen dosya bulunamazsa.\",\n",
        "    \"ImportError\": \"Var olmayan bir modülü içe aktarmaya çalışırken (import non_existing_module).\"\n",
        "}\n",
        "\n",
        "# Hata türlerini ve açıklamalarını yazdırma\n",
        "print(\"Hata Adı\\t\\tAçıklaması\")\n",
        "print(\"-\" * 60)\n",
        "for error, description in error_types.items():\n",
        "    print(f\"{error:<20} {description}\")\n"
      ],
      "metadata": {
        "id": "22EGwd1wAFsj",
        "outputId": "fd70b517-9cc9-4508-b170-cf2476ec18d1",
        "colab": {
          "base_uri": "https://localhost:8080/"
        }
      },
      "execution_count": null,
      "outputs": [
        {
          "output_type": "stream",
          "name": "stdout",
          "text": [
            "Hata Adı\t\tAçıklaması\n",
            "------------------------------------------------------------\n",
            "ZeroDivisionError    Bir sayıyı sıfıra bölmeye çalıştığında oluşur.\n",
            "TypeError            Yanlış türde bir işlem yapıldığında (örneğin string - integer çıkarma).\n",
            "ValueError           Geçersiz bir değer girildiğinde (örneğin int('hello')).\n",
            "IndexError           Listede olmayan bir indekse erişmeye çalışıldığında.\n",
            "KeyError             Sözlükte (dictionary) var olmayan bir anahtara erişildiğinde.\n",
            "FileNotFoundError    Açılmak istenen dosya bulunamazsa.\n",
            "ImportError          Var olmayan bir modülü içe aktarmaya çalışırken (import non_existing_module).\n"
          ]
        }
      ]
    },
    {
      "cell_type": "markdown",
      "metadata": {
        "id": "ZJThPSFWCjp5"
      },
      "source": [
        "## Fonksiyonlar: Fonksiyon Tanımlama, Ön Tanımlı Fonksiyonlar(random, input vs.), Lambda İfadesi, Recursive Fonksiyonlar"
      ]
    },
    {
      "cell_type": "code",
      "execution_count": null,
      "metadata": {
        "id": "v5x_V7V4Cjp5",
        "outputId": "b2e3a002-525f-412d-a2ea-59de608b4e29",
        "colab": {
          "base_uri": "https://localhost:8080/"
        }
      },
      "outputs": [
        {
          "output_type": "stream",
          "name": "stdout",
          "text": [
            "Hello, World!\n",
            "Hello, World!\n"
          ]
        }
      ],
      "source": [
        "# bir fonksiyon tanımlamak için def anahtar kelimesi kullanılır.\n",
        "\n",
        "def greet():\n",
        "    print(\"Hello, World!\")\n",
        "\n",
        "# bir fonksiyon ancak çağrıldığında çalışır\n",
        "\n",
        "greet()"
      ]
    },
    {
      "cell_type": "code",
      "execution_count": null,
      "metadata": {
        "id": "gXNffuGYCjp5",
        "outputId": "527080c8-4fce-40b9-b23f-0807f1a97b99",
        "colab": {
          "base_uri": "https://localhost:8080/"
        }
      },
      "outputs": [
        {
          "output_type": "stream",
          "name": "stdout",
          "text": [
            "Hello, Ahmet!\n"
          ]
        }
      ],
      "source": [
        "# fonksiyonlara işlemlerinde kullanılmak üzere parametreler verilebilir\n",
        "\n",
        "def greet(name):\n",
        "    print(f\"Hello, {name}!\")\n",
        "\n",
        "greet(\"Ahmet\")"
      ]
    },
    {
      "cell_type": "code",
      "execution_count": null,
      "metadata": {
        "id": "CoeGTa2_Cjp5",
        "outputId": "0a081f82-f47c-47a4-a20d-066ec551160b",
        "colab": {
          "base_uri": "https://localhost:8080/"
        }
      },
      "outputs": [
        {
          "output_type": "stream",
          "name": "stdout",
          "text": [
            "Hello, Mehmet!\n"
          ]
        }
      ],
      "source": [
        "# ayrıca fonksiyonlara default parametreler de verilebilir\n",
        "\n",
        "def greet(name=\"Mehmet\"):\n",
        "    print(f\"Hello, {name}!\")\n",
        "\n",
        "greet()"
      ]
    },
    {
      "cell_type": "code",
      "execution_count": null,
      "metadata": {
        "id": "WonatSVLCjp5",
        "outputId": "6b2fa671-30a5-4c87-e71b-8204bdd92985",
        "colab": {
          "base_uri": "https://localhost:8080/"
        }
      },
      "outputs": [
        {
          "output_type": "stream",
          "name": "stdout",
          "text": [
            "Hello, Rümeysa!\n"
          ]
        }
      ],
      "source": [
        "greet(\"Rümeysa\")"
      ]
    },
    {
      "cell_type": "code",
      "execution_count": null,
      "metadata": {
        "id": "rDo8vmAyCjp5",
        "outputId": "1e606517-3270-4ab2-df56-08f9f65e6600",
        "colab": {
          "base_uri": "https://localhost:8080/"
        }
      },
      "outputs": [
        {
          "output_type": "stream",
          "name": "stdout",
          "text": [
            "8\n",
            "8\n",
            "2\n"
          ]
        }
      ],
      "source": [
        "# bir fonksiyonun geriye bir değer döndürmesini istiyorsak return anahtar kelimesi kullanılır\n",
        "\n",
        "def add(a, b):\n",
        "    return a + b\n",
        "\n",
        "result = add(5, 3)\n",
        "print(result)\n",
        "\n",
        "# bir fonksiyonun birden fazla değer döndürmesi istenirse, bu değerler bir tuple olarak döndürülür\n",
        "# Tıpkı tuple unpacking örneğinde yaptığımız gibi bu değerler ayrı ayrı değişkenlere atanabilir.\n",
        "\n",
        "def add_sub(a, b):\n",
        "    return a + b, a - b\n",
        "addition, subtraction = add_sub(5, 3)\n",
        "print(addition)\n",
        "print(subtraction)"
      ]
    },
    {
      "cell_type": "code",
      "execution_count": null,
      "metadata": {
        "id": "fgsScZqHCjp5",
        "outputId": "829bebed-6a8f-411c-a7ea-15dcf6facee2",
        "colab": {
          "base_uri": "https://localhost:8080/"
        }
      },
      "outputs": [
        {
          "output_type": "stream",
          "name": "stdout",
          "text": [
            "Help on function add in module __main__:\n",
            "\n",
            "add(a: int, b: int) -> int\n",
            "    This is a addition function.\n",
            "    The specified parameters a and b are summed and the result is returned.\n",
            "    \n",
            "    Params,\n",
            "        a: int\n",
            "        b: int\n",
            "    Return,\n",
            "        int\n",
            "\n"
          ]
        }
      ],
      "source": [
        "# İmleç ile fonksiyon üzerine geldiğimizde fonksiyonun dökümantasyon bilgilerine ulaşabiliriz.\n",
        "# Burada fonksiyonun ne işe yaradığı, parametreleri ve geriye döndürdüğü değerler hakkında bilgi bulunur.\n",
        "# Bu bilgileri fonksiyon içerisinde docstring olarak tanımlayabiliriz.\n",
        "# Ayrıca fonksiyon parametre ve output değerlerinin tiplerini belirterek de fonksiyonun daha anlaşılır olmasını sağlayabiliriz.\n",
        "\n",
        "def add(a:int, b:int) -> int:\n",
        "    \"\"\"\n",
        "    This is a addition function.\n",
        "    The specified parameters a and b are summed and the result is returned.\n",
        "\n",
        "    Params,\n",
        "        a: int\n",
        "        b: int\n",
        "    Return,\n",
        "        int\n",
        "    \"\"\"\n",
        "    return a + b\n",
        "\n",
        "help(add)"
      ]
    },
    {
      "cell_type": "code",
      "execution_count": null,
      "metadata": {
        "id": "HTKzCnXqCjp5",
        "outputId": "2236a50f-14b2-4bdf-c61b-646f4d694e3f",
        "colab": {
          "base_uri": "https://localhost:8080/"
        }
      },
      "outputs": [
        {
          "output_type": "stream",
          "name": "stdout",
          "text": [
            "Hello Rai\n"
          ]
        }
      ],
      "source": [
        "# herhangi bir kod bloğu dışındaki değişkenlerin tümü o kod bloğuna globaldir.\n",
        "# Kendi içindeki değişkenler ise local'dir yani kendi kod bloklarına özgüdürler. Dışarıdan erişilemezler.\n",
        "\n",
        "name = \"Rai\"\n",
        "\n",
        "def greet():\n",
        "    greetingWord = \"Hello\"\n",
        "\n",
        "    print(greetingWord, name)\n",
        "\n",
        "greet()\n",
        "\n",
        "# print(greetingWord) # NameError: name 'greetingWord' is not defined"
      ]
    },
    {
      "cell_type": "code",
      "execution_count": null,
      "metadata": {
        "id": "5TohqeGzCjp5",
        "outputId": "f14e0ac2-e7e5-47eb-a962-40ab9a6b30f0",
        "colab": {
          "base_uri": "https://localhost:8080/"
        }
      },
      "outputs": [
        {
          "output_type": "stream",
          "name": "stdout",
          "text": [
            "120\n"
          ]
        }
      ],
      "source": [
        "# Recursive(Özyinelemeli) Fonksiyonlar\n",
        "def faktoriyel(n):\n",
        "    if n == 1:\n",
        "        return 1\n",
        "    return n * faktoriyel(n - 1)\n",
        "\n",
        "print(faktoriyel(5))  # Çıktı: 120"
      ]
    },
    {
      "cell_type": "code",
      "execution_count": null,
      "metadata": {
        "id": "fUBepRMuCjp6",
        "outputId": "3a4c1017-6bac-43dd-88fe-7705f4a5b9b8"
      },
      "outputs": [
        {
          "name": "stdout",
          "output_type": "stream",
          "text": [
            "7\n",
            "12\n"
          ]
        }
      ],
      "source": [
        "# Python'da fonksiyonlar değişkenlere atanabilir ve liste içinde saklanabilir.\n",
        "\n",
        "def topla(a, b):\n",
        "    return a + b\n",
        "\n",
        "def carp(a, b):\n",
        "    return a * b\n",
        "\n",
        "islemler = [topla, carp]\n",
        "\n",
        "print(islemler[0](3, 4))\n",
        "print(islemler[1](3, 4))"
      ]
    },
    {
      "cell_type": "markdown",
      "metadata": {
        "id": "xGtyphDgCjp6"
      },
      "source": [
        "### Esnek Argüman Kullanımı (*args ve **kwargs)\n",
        "Bazen kaç tane argüman geleceğini bilmeyebiliriz. Bu durumda *args ve **kwargs kullanılır.\n",
        "\n",
        "*args: İstediğimiz kadar pozisyonel argüman alabilir.\n",
        "\n",
        "**kwargs: İstediğimiz kadar anahtar-değer çifti alabilir."
      ]
    },
    {
      "cell_type": "code",
      "execution_count": null,
      "metadata": {
        "id": "e3DK4MLDCjp6",
        "outputId": "a2ceae69-e0b7-4c2b-ae26-449a8fb5588a",
        "colab": {
          "base_uri": "https://localhost:8080/"
        }
      },
      "outputs": [
        {
          "output_type": "stream",
          "name": "stdout",
          "text": [
            "10\n",
            "21\n",
            "ad: Hazal\n",
            "yas: 23\n",
            "sehir: İzmir\n"
          ]
        }
      ],
      "source": [
        "def topla(*sayilar):\n",
        "    return sum(sayilar)\n",
        "\n",
        "print(topla(2, 3, 5))\n",
        "print(topla(1, 2, 3, 4, 5, 6))\n",
        "\n",
        "def bilgiler(**kwargs):\n",
        "    for key, value in kwargs.items():\n",
        "        print(f\"{key}: {value}\")\n",
        "\n",
        "bilgiler(ad=\"Hazal\", yas=23, sehir=\"İzmir\")"
      ]
    },
    {
      "cell_type": "markdown",
      "metadata": {
        "id": "AwrAABf7Cjp6"
      },
      "source": [
        "### Bazı Temel Python Fonksiyonları\n",
        "\n",
        "* Matematiksel fonksiyonlar\n",
        "    * abs()\n",
        "    * pow()\n",
        "    * min()\n",
        "    * max()\n",
        "    * sum()\n",
        "* Mantıksal Karşılaştırma fonksiyonları\n",
        "    * all()\n",
        "    * any()"
      ]
    },
    {
      "cell_type": "code",
      "execution_count": null,
      "metadata": {
        "id": "BVz_a3rqCjp6",
        "outputId": "cc415d38-6d83-4a23-abc3-bfc445056788"
      },
      "outputs": [
        {
          "name": "stdout",
          "output_type": "stream",
          "text": [
            "9\n",
            "32\n",
            "5\n",
            "8\n",
            "15\n"
          ]
        }
      ],
      "source": [
        "# abs() mutlak değer alma fonksiyonu\n",
        "print(abs(-9))\n",
        "\n",
        "# pow(base, power) üs alma fonksiyonu\n",
        "print(pow(2,5))\n",
        "\n",
        "# min() fonksiyonu verilen sıralı nesnedeki en küçük değeri döndürür.\n",
        "print(min(5, 7))\n",
        "\n",
        "# max() fonksiyonu verilen sıralı nesnedeki en büyük değeri döndürür.\n",
        "print(max((1, 8, 6, -5)))\n",
        "\n",
        "# sum() fonksiyonu verilen sıralı nesnedeki tüm elemanların toplamını döndürür.\n",
        "print(sum([1, 2, 3, 4, 5]))"
      ]
    },
    {
      "cell_type": "code",
      "execution_count": null,
      "metadata": {
        "id": "-KECFrovCjp6",
        "outputId": "8f3dfc9f-e5f7-4266-e68e-be4fded8e722",
        "colab": {
          "base_uri": "https://localhost:8080/"
        }
      },
      "outputs": [
        {
          "output_type": "stream",
          "name": "stdout",
          "text": [
            "True\n",
            "True\n"
          ]
        }
      ],
      "source": [
        "# all() fonksiyonu sıralı nesnedeki tüm elemanlar True ise True döndürür.\n",
        "print(all([True, True, True]))\n",
        "\n",
        "# any() fonksiyonu sıralı nesnedeki en az bir eleman True ise True döndürür.\n",
        "print(any([True, False, False]))"
      ]
    },
    {
      "cell_type": "code",
      "execution_count": null,
      "metadata": {
        "id": "wsi0ildHCjp6",
        "outputId": "fc49c81e-bd39-47e8-9459-903fd524718e",
        "colab": {
          "base_uri": "https://localhost:8080/"
        }
      },
      "outputs": [
        {
          "output_type": "stream",
          "name": "stdout",
          "text": [
            "10\n"
          ]
        }
      ],
      "source": [
        "# Python'da lambda ifadesi, tek satırda yazılabilen anonim (ismi olmayan) küçük fonksiyonlar oluşturur.\n",
        "# lambda fonksiyonları, genellikle kısa ve basit işlemleri gerçekleştirmek için kullanılır.\n",
        "\n",
        "topla = lambda x: x + 5\n",
        "print(topla(5))"
      ]
    },
    {
      "cell_type": "code",
      "execution_count": null,
      "metadata": {
        "id": "_cnowh7ICjp6",
        "outputId": "ec4921d6-9b3e-46d3-f1e0-2f000668a201",
        "colab": {
          "base_uri": "https://localhost:8080/"
        }
      },
      "outputs": [
        {
          "output_type": "stream",
          "name": "stdout",
          "text": [
            "['False', 'None', 'True', 'and', 'as', 'assert', 'async', 'await', 'break', 'class', 'continue', 'def', 'del', 'elif', 'else', 'except', 'finally', 'for', 'from', 'global', 'if', 'import', 'in', 'is', 'lambda', 'nonlocal', 'not', 'or', 'pass', 'raise', 'return', 'try', 'while', 'with', 'yield']\n"
          ]
        }
      ],
      "source": [
        "import keyword\n",
        "\n",
        "print(keyword.kwlist) # Python'da kullanılan anahtar kelimeler, yani rezerve edilmiş kelimeler. Bu kelimeler değişken adı olarak kullanılamazlar."
      ]
    },
    {
      "cell_type": "markdown",
      "source": [
        "### Dosya İşlemleri: Okuma ve Yazma"
      ],
      "metadata": {
        "id": "WeeEFZkeM-az"
      }
    },
    {
      "cell_type": "code",
      "source": [
        "# \"ornek.txt\" adlı dosyayı yazma (\"w\") modunda açıyoruz.\n",
        "# Eğer dosya mevcut değilse, yeni bir dosya oluşturulur.\n",
        "# Eğer mevcutsa, içeriği silinir ve yeni veri yazılır.\n",
        "\n",
        "with open(\"ornek.txt\", \"w\") as dosya:\n",
        "    dosya.write(\"Bu bir test dosyasıdır.\")  # Dosyaya metin yazıyoruz.\n",
        "\n",
        "# \"ornek.txt\" dosyasını okuma (\"r\") modunda açıyoruz.\n",
        "with open(\"ornek.txt\", \"r\") as dosya:\n",
        "    print(dosya.read())  # Dosyanın içeriğini ekrana yazdırıyoruz."
      ],
      "metadata": {
        "id": "3KsCNnswNGBV",
        "colab": {
          "base_uri": "https://localhost:8080/"
        },
        "outputId": "e5ace0ff-bb0b-40e2-afde-aa694ea4df7c"
      },
      "execution_count": null,
      "outputs": [
        {
          "output_type": "stream",
          "name": "stdout",
          "text": [
            "Bu bir test dosyasıdır.\n"
          ]
        }
      ]
    },
    {
      "cell_type": "code",
      "source": [
        "# alternatif append modu kullanımı:\n",
        "# Eğer mevcut dosyanın içeriğini silmeden ekleme yapmak istersen \"w\" yerine \"a\" (append) modunu kullanabiliriz:\n",
        "\n",
        "with open(\"ornek.txt\", \"a\") as dosya:\n",
        "    dosya.write(\"\\nBu bir ek satırdır.\")  # Dosyanın sonuna yeni bir satır ekler.\n",
        "\n",
        "with open(\"ornek.txt\", \"r\") as dosya:\n",
        "        print(dosya.read())"
      ],
      "metadata": {
        "id": "sC_ktw-SNGmL",
        "colab": {
          "base_uri": "https://localhost:8080/"
        },
        "outputId": "3b31fd8b-1da3-47dc-dc1e-2f355e8bc04e"
      },
      "execution_count": null,
      "outputs": [
        {
          "output_type": "stream",
          "name": "stdout",
          "text": [
            "Bu bir test dosyasıdır.\n",
            "Bu bir ek satırdır.\n"
          ]
        }
      ]
    },
    {
      "cell_type": "markdown",
      "source": [
        "### Nesneye Dayalı Programlama\n",
        "\n",
        "Sınıf (class), benzer özelliklere ve davranışlara sahip verileri bir arada tutmak için kullanılır. Örneğin, bir öğrencinin adı ve yaşı gibi bilgileri saklamak için bir sınıf oluşturabiliriz."
      ],
      "metadata": {
        "id": "dU-AWlk7Eg2_"
      }
    },
    {
      "cell_type": "code",
      "source": [
        "# Öğrenci sınıfı\n",
        "class Ogrenci:\n",
        "    def __init__(self, ad, yas):  # Öğrencinin adı ve yaşını parametre alır, sınıftaki tüm fonksiyonlarda tanınacak şekilde \"self\" ile tanımlanan değişkene atama yapar.\n",
        "        self.ad = ad\n",
        "        self.yas = yas\n",
        "\n",
        "    def bilgi_goster(self):  # Öğrencinin bilgilerini ekrana yazdırır\n",
        "        print(\"Ad:\", self.ad)\n",
        "        print(\"Yaş:\", self.yas)\n",
        "\n",
        "# Sınıfı kullanmak\n",
        "ogrenci1 = Ogrenci(\"Ali\",20)    # ogrenci1 adında bir \"Object\" değişkeni oluşturur.\n",
        "ogrenci1.bilgi_goster()         # Bilgilerini ekrana yazdırır"
      ],
      "metadata": {
        "id": "R3lHU0UMEVuF",
        "colab": {
          "base_uri": "https://localhost:8080/"
        },
        "outputId": "a574a531-3076-49fb-b049-91b83b919507"
      },
      "execution_count": null,
      "outputs": [
        {
          "output_type": "stream",
          "name": "stdout",
          "text": [
            "Ad: Ali\n",
            "Yaş: 20\n"
          ]
        }
      ]
    },
    {
      "cell_type": "markdown",
      "metadata": {
        "id": "eYyxYf4UCjp6"
      },
      "source": [
        "## Python 202"
      ]
    },
    {
      "cell_type": "markdown",
      "metadata": {
        "id": "Upirgw24Cjp6"
      },
      "source": [
        "### Binary Tipi Değişkenler\n",
        "binary tipleri ```bytes```, ```bytesarray``` ve ```memoryview``` tipleridir. Bu tipler 101 seviyesi için bahsedilmesi gereken tipler değillerdir. Dolayısıyla sadece tanımlarını ve nasıl atama yapıldığını göstereceğiz.\n"
      ]
    },
    {
      "cell_type": "code",
      "execution_count": null,
      "metadata": {
        "id": "cXdM0JnwCjp6",
        "outputId": "ba1673e0-e910-4ae4-a00d-84ec6c4744a1",
        "colab": {
          "base_uri": "https://localhost:8080/"
        }
      },
      "outputs": [
        {
          "output_type": "stream",
          "name": "stdout",
          "text": [
            "bytesVar's value is b'a' and its type <class 'bytes'>\n",
            "default variable of bytes data types is  b''\n",
            "97\n"
          ]
        }
      ],
      "source": [
        "# bytes\n",
        "bytesVar = b\"a\"\n",
        "print(f\"bytesVar's value is {bytesVar} and its type {type(bytesVar)}\")\n",
        "\n",
        "bytesVar2 = bytes()\n",
        "print(f\"default variable of bytes data types is \", bytesVar2)\n",
        "\n",
        "for byte in bytesVar:\n",
        "    print(byte)\n",
        "# \"a\" karakterinin ASCII değeri 97'dir."
      ]
    },
    {
      "cell_type": "code",
      "execution_count": null,
      "metadata": {
        "id": "ZCI2z32ZCjp6",
        "outputId": "9e926dc2-8e1c-4e38-c39d-45d1a1c03225"
      },
      "outputs": [
        {
          "name": "stdout",
          "output_type": "stream",
          "text": [
            "bytearray(b'Hello')\n",
            "72\n",
            "101\n",
            "108\n",
            "108\n",
            "111\n"
          ]
        }
      ],
      "source": [
        "# bytesarray\n",
        "\n",
        "byteArrayVar = bytearray(b\"Hello\")\n",
        "print(byteArrayVar)\n",
        "\n",
        "for byte in byteArrayVar:\n",
        "    print(byte)"
      ]
    },
    {
      "cell_type": "markdown",
      "metadata": {
        "id": "7ND7XxjnCjp6"
      },
      "source": [
        "### Bitwise Operatörler"
      ]
    },
    {
      "cell_type": "code",
      "execution_count": null,
      "metadata": {
        "id": "9X3pizaJCjp6",
        "outputId": "f5d402d4-149a-42c2-86d7-f6ee05186ab6"
      },
      "outputs": [
        {
          "name": "stdout",
          "output_type": "stream",
          "text": [
            "value3 is 5 and its binary representation is 0b101\n",
            "value4 is 6 and its binary representation is 0b110\n",
            "4\n",
            "7\n",
            "3\n",
            "-6\n",
            "20\n"
          ]
        }
      ],
      "source": [
        "# Bu operatörler ikili sayı sistemini kullanır, numaraların ikili formatlarını karşılaştırır ve her bit ile aynı konumda olan bitler üzerinde işlem yapar.\n",
        "\n",
        "# &   bitwise AND\n",
        "value3 = 5 # 0101\n",
        "value4 = 6 # 0110\n",
        "print(f\"value3 is {value3} and its binary representation is {bin(value3)}\")\n",
        "print(f\"value4 is {value4} and its binary representation is {bin(value4)}\")\n",
        "\n",
        "# (0101) & (0110) = (0100)\n",
        "print(value3 & value4)  # 4 because result is 0100\n",
        "\n",
        "\n",
        "# |   bitwise OR\n",
        "# (0101) | (0110) = (0111)\n",
        "print(value3 | value4) # 7 because result is 0111\n",
        "\n",
        "\n",
        "# ^   bitwise XOR\n",
        "# Eğer bitler farklı ise sonuç 1 olur\n",
        "# Eğer bitler aynı ise sonuç 0 olur\n",
        "\n",
        "# (0101) ^ (0110) = (0011)\n",
        "print(value3 ^ value4) # 3, çünkü sonuç 0011\n",
        "\n",
        "\n",
        "# ~   bitwise NOT\n",
        "# Bu bir tekli operatördür ve tüm bitleri tersine çevirir\n",
        "# ~(0101) = (1010)\n",
        "print(~value3)  # -6 because result is 1010\n",
        "\n",
        "\n",
        "# <<  left shift\n",
        "# Bitleri sola kaydırır ve sağa 0 doldurur\n",
        "# 5 = 0000 0101\n",
        "# 5 << 2\n",
        "# 0000 0101 << 2 = 0001 0100\n",
        "print(value3 << 2)  # 20 because result is 0001 0100"
      ]
    },
    {
      "cell_type": "markdown",
      "metadata": {
        "id": "O0UPAk9RCjp6"
      },
      "source": [
        "### Yüksek Seviyeli fonksiyonlar\n",
        "* map()\n",
        "* filter()\n",
        "* reduce()\n",
        "* zip()\n",
        "* enumerate()"
      ]
    },
    {
      "cell_type": "code",
      "execution_count": null,
      "metadata": {
        "id": "Z7aXKZ4SCjp7",
        "outputId": "cfbf1325-8ce3-4dbc-f014-fdb3c1db7cfc"
      },
      "outputs": [
        {
          "name": "stdout",
          "output_type": "stream",
          "text": [
            "<map object at 0x1099af370>\n",
            "[1, 4, 9, 16, 25]\n"
          ]
        }
      ],
      "source": [
        "# map() fonksiyonu kendisine parametre olarak verilen fonksiyonu sıralı nesne üzerinde uygular ve sonuçları bir map nesnesi olarak döndürür.\n",
        "\n",
        "def square(x):\n",
        "    return x ** 2\n",
        "\n",
        "numbers = [1, 2, 3, 4, 5]\n",
        "\n",
        "squared_numbers = map(square, numbers)\n",
        "\n",
        "print(squared_numbers)\n",
        "print(list(squared_numbers))"
      ]
    },
    {
      "cell_type": "code",
      "execution_count": null,
      "metadata": {
        "id": "FKQS7FWwCjp7",
        "outputId": "70910bd0-ef3b-4922-ba4f-e6bf97d50c54"
      },
      "outputs": [
        {
          "name": "stdout",
          "output_type": "stream",
          "text": [
            "<filter object at 0x109bb7370>\n",
            "[2, 4]\n"
          ]
        }
      ],
      "source": [
        "# filter() fonksiyonu kendisine parametre olarak verilen fonksiyonu sıralı nesne üzerinde uygular ve sonuçları bir filter nesnesi olarak döndürür.\n",
        "\n",
        "def is_even(x):\n",
        "    return x % 2 == 0\n",
        "\n",
        "numbers = [1, 2, 3, 4, 5]\n",
        "\n",
        "even_numbers = filter(is_even, numbers)\n",
        "\n",
        "print(even_numbers)\n",
        "print(list(even_numbers))"
      ]
    },
    {
      "cell_type": "code",
      "execution_count": null,
      "metadata": {
        "id": "EGUmqolxCjp7",
        "outputId": "ddd5e13f-b0ed-485e-b0c7-46fc72affa10"
      },
      "outputs": [
        {
          "name": "stdout",
          "output_type": "stream",
          "text": [
            "15\n"
          ]
        }
      ],
      "source": [
        "# reduce() fonksiyonu kendisine parametre olarak verilen fonksiyonu sıralı nesne üzerinde uygular ve sonuçları bir reduce nesnesi olarak döndürür.\n",
        "# reduce aslında liste üzerine uyguladığı fonksiyonun sonucunu bir sonraki eleman ile birlikte tekrar uygular ve bu işlemi listenin sonuna kadar sürdürür.\n",
        "# Sonuç olarak bir değer döndürür. Bu da isminden de anlaşılacağı üzere bir reduce/azaltma işlemidir.\n",
        "\n",
        "from functools import reduce\n",
        "\n",
        "def add(x, y):\n",
        "    return x + y\n",
        "\n",
        "numbers = [1, 2, 3, 4, 5]\n",
        "\n",
        "sum_of_numbers = reduce(add, numbers)\n",
        "\n",
        "print(sum_of_numbers)"
      ]
    },
    {
      "cell_type": "code",
      "execution_count": null,
      "metadata": {
        "id": "sYO0IpBdCjp7",
        "outputId": "ca2c3632-f2f1-47b6-dd15-3713b50995d7"
      },
      "outputs": [
        {
          "name": "stdout",
          "output_type": "stream",
          "text": [
            "<zip object at 0x10618af00>\n",
            "[('Alice', 25), ('Bob', 30), ('Charlie', 35)]\n"
          ]
        }
      ],
      "source": [
        "# zip() fonksiyonu kendisine verilen sıralı nesneleri birleştirir ve bir zip nesnesi döndürür.\n",
        "\n",
        "names = [\"Alice\", \"Bob\", \"Charlie\"]\n",
        "ages = [25, 30, 35]\n",
        "\n",
        "zipped = zip(names, ages)\n",
        "\n",
        "print(zipped)\n",
        "\n",
        "print(list(zipped))"
      ]
    },
    {
      "cell_type": "markdown",
      "source": [
        "# Ek Kaynaklar ve Sonraki Adımlar\n",
        "- Python Resmi Dokümanı: https://docs.python.org/3/\n",
        "- Real Python: https://realpython.com/\n",
        "- https://www.py4e.com/\n",
        "\n",
        "## Proje Fikirleri\n",
        "- Bir to-do list uygulaması\n",
        "- Bir arayüzü de olan basit bir hesap makinesi uygulaması\n",
        "- Metin temelli, kullanıcının verdiği kararlara dayalı, terminalden oynanabilen bir macera oyunu\n",
        "\n",
        "## İncelenebilecek Bir Seviye İleri Konular\n",
        "Web Development (Django, Flask)\n",
        "Data Science (NumPy, Pandas)\n",
        "Machine Learning (scikit-learn, TensorFlow)\n",
        "Automation and Scripting\n",
        "API Development\n",
        "Database Integration\n",
        "\n",
        "## Başarılı Bir İlerleme için Bazı Ufak Tavsiyeler\n",
        "- Düzenli olarak kod yazın (leetcode, codewars, hackerrank vb. siteleri kullanın)\n",
        "- Bir proje fikri bulun, veya gördüğünüz bir problem için çözüm düşünün ve nasıl kodlayabileceğinizi araştırın\n",
        "- Diğer insanların kodlarını inceleyin\n",
        "- Topluluklara katılın (Sizin için bu adımı çözmüş olduk :))\n",
        "- Açık kaynak projelere katkıda bulunmayı öğrenin\n",
        "- İlerleme yolculuğunuzu dokümante edin, kayıt altına alın\n"
      ],
      "metadata": {
        "id": "3XzssPspCwYZ"
      }
    }
  ],
  "metadata": {
    "kernelspec": {
      "display_name": "Python 3",
      "language": "python",
      "name": "python3"
    },
    "language_info": {
      "codemirror_mode": {
        "name": "ipython",
        "version": 3
      },
      "file_extension": ".py",
      "mimetype": "text/x-python",
      "name": "python",
      "nbconvert_exporter": "python",
      "pygments_lexer": "ipython3",
      "version": "3.11.7"
    },
    "colab": {
      "provenance": [],
      "toc_visible": true
    }
  },
  "nbformat": 4,
  "nbformat_minor": 0
}
